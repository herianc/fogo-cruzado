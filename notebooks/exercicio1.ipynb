{
 "cells": [
  {
   "cell_type": "code",
   "execution_count": 1,
   "id": "70413c7c-4b8e-48a6-8c3c-8a8eec913269",
   "metadata": {},
   "outputs": [],
   "source": [
    "import pandas as pd\n",
    "import numpy as np\n",
    "import matplotlib.pyplot as plt\n",
    "import seaborn as sns\n",
    "\n",
    "sns.set_style(style='darkgrid', rc=None)"
   ]
  },
  {
   "cell_type": "markdown",
   "id": "d8f4a82a-9f4b-4818-8395-763341f50b87",
   "metadata": {},
   "source": [
    "# Exercício 1\n",
    "\n",
    "Através do banco de dados disponibilizado, responda às seguintes perguntas:\n",
    "\n",
    "- 1) Quantos tiroteios o Instituto Fogo Cruzado registrou em 2024? E qual porcentagem ocorreu em ações policiais? \n",
    "- 2) Quantas chacinas foram registradas em 2024? e qual estado registrou menos vítimas desse fenômeno? \n",
    "- 3) Quantas pessoas foram vítimas de balas perdidas em 2024? E quantas vítimas teve o estado com mais casos? \n",
    "- 4) Qual bairro registrou mais tiroteios? \n",
    "- 5) Quantas crianças foram baleadas dentro de casa em 2024? E quantas delas morreram? \n",
    "- 6) Quantos garis (funcionários de limpeza urbana) foram baleados em 2024?"
   ]
  },
  {
   "cell_type": "code",
   "execution_count": 3,
   "id": "3eefdaf2-bd2b-45fb-835f-5a23cb5dd99c",
   "metadata": {},
   "outputs": [
    {
     "data": {
      "text/plain": [
       "(6769, 26)"
      ]
     },
     "execution_count": 3,
     "metadata": {},
     "output_type": "execute_result"
    }
   ],
   "source": [
    "df_ocorrencias = pd.read_excel('dados_ex1.xlsx', sheet_name='Ocorrencias')\n",
    "df_ocorrencias.shape"
   ]
  },
  {
   "cell_type": "code",
   "execution_count": 4,
   "id": "b6e782c9-56da-409f-86af-72b9a28983e6",
   "metadata": {},
   "outputs": [],
   "source": [
    "df_ocorrencias = df_ocorrencias.query('uf != \"Pará\"').copy()"
   ]
  },
  {
   "cell_type": "code",
   "execution_count": 5,
   "id": "c4f8310a-9d86-4ca2-a1de-791ad1a88e11",
   "metadata": {},
   "outputs": [
    {
     "data": {
      "text/plain": [
       "(5936, 39)"
      ]
     },
     "execution_count": 5,
     "metadata": {},
     "output_type": "execute_result"
    }
   ],
   "source": [
    "df_vitimas = pd.read_excel('dados_ex1.xlsx', sheet_name='Vitimas')\n",
    "df_vitimas.shape"
   ]
  },
  {
   "cell_type": "code",
   "execution_count": 6,
   "id": "8cce8113-349d-40fe-b4e7-d81e22621362",
   "metadata": {},
   "outputs": [],
   "source": [
    "df_vitimas = df_vitimas.query('uf != \"Pará\"').copy()"
   ]
  },
  {
   "cell_type": "code",
   "execution_count": 7,
   "id": "c1669990-af61-46a3-8a0b-1c87953e96ab",
   "metadata": {},
   "outputs": [
    {
     "data": {
      "text/plain": [
       "Index(['id_ocorrencia', 'uf', 'cidade', 'endereco', 'bairro', 'sub_bairro',\n",
       "       'localidade', 'latitude', 'longitude', 'data_ocorrencia',\n",
       "       'data de cadastro', 'última atualização', 'fonte_ocorrencia',\n",
       "       'presenca_agentes', 'acao_policial', 'civis_mortos_ocorrencia',\n",
       "       'civis_feridos_ocorrencia', 'agentes_mortos_ocorrencia',\n",
       "       'agentes_feridos_ocorrencia', 'chacina_ocorrencia',\n",
       "       'unidades_policiais', 'motivo_principal', 'motivos_complementares',\n",
       "       'outros_recortes', 'transporte_interrompido', 'ocorrencia_relacionada'],\n",
       "      dtype='object')"
      ]
     },
     "execution_count": 7,
     "metadata": {},
     "output_type": "execute_result"
    }
   ],
   "source": [
    "df_ocorrencias.columns"
   ]
  },
  {
   "cell_type": "code",
   "execution_count": 8,
   "id": "8bfe6e59-2b44-49e1-a379-7ce7d87d60cd",
   "metadata": {},
   "outputs": [
    {
     "data": {
      "text/plain": [
       "Index(['id_ocorrencia', 'uf', 'endereco', 'cidade', 'bairro', 'sub_bairro',\n",
       "       'localidade', 'latitude', 'longitude', 'data_ocorrencia',\n",
       "       'hora_ocorrencia', 'presenca_agentes', 'acao_policial',\n",
       "       'unidades_policiais', 'motivo_principal', 'motivos_complementares',\n",
       "       'outros_recortes', 'ocorrencia_relacionada', 'id_vitima', 'tipo',\n",
       "       'situacao', 'data_morte', 'idade', 'faixa_etaria', 'raca', 'genero',\n",
       "       'local', 'circunstancias_vitima', 'qualificacoes_vitima',\n",
       "       'status_servico', 'observacoes_gerais', 'status_politico',\n",
       "       'posicao_politico', 'partido_político', 'unidade_agente',\n",
       "       'posicao_agente', 'coorporacao_agente', 'status_agente', 'tipo_pessoa'],\n",
       "      dtype='object')"
      ]
     },
     "execution_count": 8,
     "metadata": {},
     "output_type": "execute_result"
    }
   ],
   "source": [
    "df_vitimas.columns"
   ]
  },
  {
   "cell_type": "code",
   "execution_count": 9,
   "id": "ae72ce3a-b97a-4231-96d1-85e2071cf410",
   "metadata": {},
   "outputs": [
    {
     "name": "stdout",
     "output_type": "stream",
     "text": [
      "<class 'pandas.core.frame.DataFrame'>\n",
      "Index: 6075 entries, 0 to 6768\n",
      "Data columns (total 26 columns):\n",
      " #   Column                      Non-Null Count  Dtype         \n",
      "---  ------                      --------------  -----         \n",
      " 0   id_ocorrencia               6075 non-null   int64         \n",
      " 1   uf                          6075 non-null   object        \n",
      " 2   cidade                      6075 non-null   object        \n",
      " 3   endereco                    6075 non-null   object        \n",
      " 4   bairro                      6075 non-null   object        \n",
      " 5   sub_bairro                  477 non-null    object        \n",
      " 6   localidade                  2480 non-null   object        \n",
      " 7   latitude                    6075 non-null   float64       \n",
      " 8   longitude                   6075 non-null   float64       \n",
      " 9   data_ocorrencia             6075 non-null   datetime64[ns]\n",
      " 10  data de cadastro            6075 non-null   datetime64[ns]\n",
      " 11  última atualização          6075 non-null   datetime64[ns]\n",
      " 12  fonte_ocorrencia            6075 non-null   object        \n",
      " 13  presenca_agentes            6075 non-null   object        \n",
      " 14  acao_policial               6075 non-null   object        \n",
      " 15  civis_mortos_ocorrencia     3077 non-null   float64       \n",
      " 16  civis_feridos_ocorrencia    1198 non-null   float64       \n",
      " 17  agentes_mortos_ocorrencia   65 non-null     float64       \n",
      " 18  agentes_feridos_ocorrencia  96 non-null     float64       \n",
      " 19  chacina_ocorrencia          6075 non-null   object        \n",
      " 20  unidades_policiais          1685 non-null   object        \n",
      " 21  motivo_principal            6075 non-null   object        \n",
      " 22  motivos_complementares      2754 non-null   object        \n",
      " 23  outros_recortes             379 non-null    object        \n",
      " 24  transporte_interrompido     6075 non-null   object        \n",
      " 25  ocorrencia_relacionada      49 non-null     object        \n",
      "dtypes: datetime64[ns](3), float64(6), int64(1), object(16)\n",
      "memory usage: 1.3+ MB\n"
     ]
    }
   ],
   "source": [
    "df_ocorrencias.info()"
   ]
  },
  {
   "cell_type": "code",
   "execution_count": 10,
   "id": "9243b2fc-a009-4045-86b6-14251f702cd8",
   "metadata": {},
   "outputs": [
    {
     "name": "stdout",
     "output_type": "stream",
     "text": [
      "<class 'pandas.core.frame.DataFrame'>\n",
      "Index: 5250 entries, 0 to 5935\n",
      "Data columns (total 39 columns):\n",
      " #   Column                  Non-Null Count  Dtype         \n",
      "---  ------                  --------------  -----         \n",
      " 0   id_ocorrencia           5250 non-null   int64         \n",
      " 1   uf                      5250 non-null   object        \n",
      " 2   endereco                5250 non-null   object        \n",
      " 3   cidade                  5250 non-null   object        \n",
      " 4   bairro                  5250 non-null   object        \n",
      " 5   sub_bairro              446 non-null    object        \n",
      " 6   localidade              1851 non-null   object        \n",
      " 7   latitude                5250 non-null   float64       \n",
      " 8   longitude               5250 non-null   float64       \n",
      " 9   data_ocorrencia         5250 non-null   datetime64[ns]\n",
      " 10  hora_ocorrencia         5250 non-null   object        \n",
      " 11  presenca_agentes        5250 non-null   object        \n",
      " 12  acao_policial           5250 non-null   object        \n",
      " 13  unidades_policiais      1527 non-null   object        \n",
      " 14  motivo_principal        5250 non-null   object        \n",
      " 15  motivos_complementares  2841 non-null   object        \n",
      " 16  outros_recortes         487 non-null    object        \n",
      " 17  ocorrencia_relacionada  40 non-null     object        \n",
      " 18  id_vitima               5250 non-null   object        \n",
      " 19  tipo                    5250 non-null   object        \n",
      " 20  situacao                5250 non-null   object        \n",
      " 21  data_morte              3578 non-null   datetime64[ns]\n",
      " 22  idade                   2435 non-null   float64       \n",
      " 23  faixa_etaria            5250 non-null   object        \n",
      " 24  raca                    5250 non-null   object        \n",
      " 25  genero                  5250 non-null   object        \n",
      " 26  local                   5250 non-null   object        \n",
      " 27  circunstancias_vitima   5250 non-null   object        \n",
      " 28  qualificacoes_vitima    5250 non-null   object        \n",
      " 29  status_servico          5250 non-null   object        \n",
      " 30  observacoes_gerais      952 non-null    object        \n",
      " 31  status_politico         5250 non-null   object        \n",
      " 32  posicao_politico        5250 non-null   object        \n",
      " 33  partido_político        0 non-null      float64       \n",
      " 34  unidade_agente          140 non-null    object        \n",
      " 35  posicao_agente          5250 non-null   object        \n",
      " 36  coorporacao_agente      5250 non-null   object        \n",
      " 37  status_agente           5250 non-null   object        \n",
      " 38  tipo_pessoa             5250 non-null   object        \n",
      "dtypes: datetime64[ns](2), float64(4), int64(1), object(32)\n",
      "memory usage: 1.6+ MB\n"
     ]
    }
   ],
   "source": [
    "df_vitimas.info()"
   ]
  },
  {
   "cell_type": "code",
   "execution_count": 11,
   "id": "0e1c84d8-6a14-4124-9a5f-4fc318afc266",
   "metadata": {},
   "outputs": [
    {
     "data": {
      "text/html": [
       "<div>\n",
       "<style scoped>\n",
       "    .dataframe tbody tr th:only-of-type {\n",
       "        vertical-align: middle;\n",
       "    }\n",
       "\n",
       "    .dataframe tbody tr th {\n",
       "        vertical-align: top;\n",
       "    }\n",
       "\n",
       "    .dataframe thead th {\n",
       "        text-align: right;\n",
       "    }\n",
       "</style>\n",
       "<table border=\"1\" class=\"dataframe\">\n",
       "  <thead>\n",
       "    <tr style=\"text-align: right;\">\n",
       "      <th></th>\n",
       "      <th>count</th>\n",
       "      <th>mean</th>\n",
       "      <th>min</th>\n",
       "      <th>25%</th>\n",
       "      <th>50%</th>\n",
       "      <th>75%</th>\n",
       "      <th>max</th>\n",
       "      <th>std</th>\n",
       "    </tr>\n",
       "  </thead>\n",
       "  <tbody>\n",
       "    <tr>\n",
       "      <th>id_ocorrencia</th>\n",
       "      <td>6075.0</td>\n",
       "      <td>65277.729547</td>\n",
       "      <td>61678.0</td>\n",
       "      <td>63447.0</td>\n",
       "      <td>65247.0</td>\n",
       "      <td>67102.5</td>\n",
       "      <td>69532.0</td>\n",
       "      <td>2107.698341</td>\n",
       "    </tr>\n",
       "    <tr>\n",
       "      <th>latitude</th>\n",
       "      <td>6075.0</td>\n",
       "      <td>-15.647213</td>\n",
       "      <td>-23.052443</td>\n",
       "      <td>-22.839597</td>\n",
       "      <td>-12.949664</td>\n",
       "      <td>-8.180091</td>\n",
       "      <td>-7.53364</td>\n",
       "      <td>6.3686</td>\n",
       "    </tr>\n",
       "    <tr>\n",
       "      <th>longitude</th>\n",
       "      <td>6075.0</td>\n",
       "      <td>-39.464603</td>\n",
       "      <td>-43.822548</td>\n",
       "      <td>-43.302781</td>\n",
       "      <td>-38.481896</td>\n",
       "      <td>-35.017575</td>\n",
       "      <td>-34.80917</td>\n",
       "      <td>3.522366</td>\n",
       "    </tr>\n",
       "    <tr>\n",
       "      <th>data_ocorrencia</th>\n",
       "      <td>6075</td>\n",
       "      <td>2024-06-23 01:38:44.918518528</td>\n",
       "      <td>2024-01-01 00:00:00</td>\n",
       "      <td>2024-03-21 17:55:00</td>\n",
       "      <td>2024-06-17 09:00:00</td>\n",
       "      <td>2024-09-22 22:00:00</td>\n",
       "      <td>2024-12-31 22:30:00</td>\n",
       "      <td>NaN</td>\n",
       "    </tr>\n",
       "    <tr>\n",
       "      <th>data de cadastro</th>\n",
       "      <td>6075</td>\n",
       "      <td>2024-06-24 02:49:41.642436608</td>\n",
       "      <td>2024-01-01 08:17:26.387000</td>\n",
       "      <td>2024-03-22 11:17:02.264499968</td>\n",
       "      <td>2024-06-18 10:45:14.800000</td>\n",
       "      <td>2024-09-24 03:06:40.054500096</td>\n",
       "      <td>2025-01-28 18:13:18.217000</td>\n",
       "      <td>NaN</td>\n",
       "    </tr>\n",
       "    <tr>\n",
       "      <th>última atualização</th>\n",
       "      <td>6075</td>\n",
       "      <td>2024-07-11 14:14:17.749463552</td>\n",
       "      <td>2024-01-01 08:17:26.387000</td>\n",
       "      <td>2024-04-05 23:17:32.616499968</td>\n",
       "      <td>2024-07-11 23:04:24.616999936</td>\n",
       "      <td>2024-10-18 06:51:17.216999936</td>\n",
       "      <td>2025-01-28 18:45:15.207000</td>\n",
       "      <td>NaN</td>\n",
       "    </tr>\n",
       "    <tr>\n",
       "      <th>civis_mortos_ocorrencia</th>\n",
       "      <td>3077.0</td>\n",
       "      <td>1.140721</td>\n",
       "      <td>1.0</td>\n",
       "      <td>1.0</td>\n",
       "      <td>1.0</td>\n",
       "      <td>1.0</td>\n",
       "      <td>6.0</td>\n",
       "      <td>0.467426</td>\n",
       "    </tr>\n",
       "    <tr>\n",
       "      <th>civis_feridos_ocorrencia</th>\n",
       "      <td>1198.0</td>\n",
       "      <td>1.309683</td>\n",
       "      <td>1.0</td>\n",
       "      <td>1.0</td>\n",
       "      <td>1.0</td>\n",
       "      <td>1.0</td>\n",
       "      <td>10.0</td>\n",
       "      <td>0.733554</td>\n",
       "    </tr>\n",
       "    <tr>\n",
       "      <th>agentes_mortos_ocorrencia</th>\n",
       "      <td>65.0</td>\n",
       "      <td>1.046154</td>\n",
       "      <td>1.0</td>\n",
       "      <td>1.0</td>\n",
       "      <td>1.0</td>\n",
       "      <td>1.0</td>\n",
       "      <td>2.0</td>\n",
       "      <td>0.211451</td>\n",
       "    </tr>\n",
       "    <tr>\n",
       "      <th>agentes_feridos_ocorrencia</th>\n",
       "      <td>96.0</td>\n",
       "      <td>1.072917</td>\n",
       "      <td>1.0</td>\n",
       "      <td>1.0</td>\n",
       "      <td>1.0</td>\n",
       "      <td>1.0</td>\n",
       "      <td>3.0</td>\n",
       "      <td>0.298938</td>\n",
       "    </tr>\n",
       "  </tbody>\n",
       "</table>\n",
       "</div>"
      ],
      "text/plain": [
       "                             count                           mean  \\\n",
       "id_ocorrencia               6075.0                   65277.729547   \n",
       "latitude                    6075.0                     -15.647213   \n",
       "longitude                   6075.0                     -39.464603   \n",
       "data_ocorrencia               6075  2024-06-23 01:38:44.918518528   \n",
       "data de cadastro              6075  2024-06-24 02:49:41.642436608   \n",
       "última atualização            6075  2024-07-11 14:14:17.749463552   \n",
       "civis_mortos_ocorrencia     3077.0                       1.140721   \n",
       "civis_feridos_ocorrencia    1198.0                       1.309683   \n",
       "agentes_mortos_ocorrencia     65.0                       1.046154   \n",
       "agentes_feridos_ocorrencia    96.0                       1.072917   \n",
       "\n",
       "                                                   min  \\\n",
       "id_ocorrencia                                  61678.0   \n",
       "latitude                                    -23.052443   \n",
       "longitude                                   -43.822548   \n",
       "data_ocorrencia                    2024-01-01 00:00:00   \n",
       "data de cadastro            2024-01-01 08:17:26.387000   \n",
       "última atualização          2024-01-01 08:17:26.387000   \n",
       "civis_mortos_ocorrencia                            1.0   \n",
       "civis_feridos_ocorrencia                           1.0   \n",
       "agentes_mortos_ocorrencia                          1.0   \n",
       "agentes_feridos_ocorrencia                         1.0   \n",
       "\n",
       "                                                      25%  \\\n",
       "id_ocorrencia                                     63447.0   \n",
       "latitude                                       -22.839597   \n",
       "longitude                                      -43.302781   \n",
       "data_ocorrencia                       2024-03-21 17:55:00   \n",
       "data de cadastro            2024-03-22 11:17:02.264499968   \n",
       "última atualização          2024-04-05 23:17:32.616499968   \n",
       "civis_mortos_ocorrencia                               1.0   \n",
       "civis_feridos_ocorrencia                              1.0   \n",
       "agentes_mortos_ocorrencia                             1.0   \n",
       "agentes_feridos_ocorrencia                            1.0   \n",
       "\n",
       "                                                      50%  \\\n",
       "id_ocorrencia                                     65247.0   \n",
       "latitude                                       -12.949664   \n",
       "longitude                                      -38.481896   \n",
       "data_ocorrencia                       2024-06-17 09:00:00   \n",
       "data de cadastro               2024-06-18 10:45:14.800000   \n",
       "última atualização          2024-07-11 23:04:24.616999936   \n",
       "civis_mortos_ocorrencia                               1.0   \n",
       "civis_feridos_ocorrencia                              1.0   \n",
       "agentes_mortos_ocorrencia                             1.0   \n",
       "agentes_feridos_ocorrencia                            1.0   \n",
       "\n",
       "                                                      75%  \\\n",
       "id_ocorrencia                                     67102.5   \n",
       "latitude                                        -8.180091   \n",
       "longitude                                      -35.017575   \n",
       "data_ocorrencia                       2024-09-22 22:00:00   \n",
       "data de cadastro            2024-09-24 03:06:40.054500096   \n",
       "última atualização          2024-10-18 06:51:17.216999936   \n",
       "civis_mortos_ocorrencia                               1.0   \n",
       "civis_feridos_ocorrencia                              1.0   \n",
       "agentes_mortos_ocorrencia                             1.0   \n",
       "agentes_feridos_ocorrencia                            1.0   \n",
       "\n",
       "                                                   max          std  \n",
       "id_ocorrencia                                  69532.0  2107.698341  \n",
       "latitude                                      -7.53364       6.3686  \n",
       "longitude                                    -34.80917     3.522366  \n",
       "data_ocorrencia                    2024-12-31 22:30:00          NaN  \n",
       "data de cadastro            2025-01-28 18:13:18.217000          NaN  \n",
       "última atualização          2025-01-28 18:45:15.207000          NaN  \n",
       "civis_mortos_ocorrencia                            6.0     0.467426  \n",
       "civis_feridos_ocorrencia                          10.0     0.733554  \n",
       "agentes_mortos_ocorrencia                          2.0     0.211451  \n",
       "agentes_feridos_ocorrencia                         3.0     0.298938  "
      ]
     },
     "execution_count": 11,
     "metadata": {},
     "output_type": "execute_result"
    }
   ],
   "source": [
    "df_ocorrencias.describe().T"
   ]
  },
  {
   "cell_type": "code",
   "execution_count": 12,
   "id": "1066c696-8b24-4ce7-9bb4-459f4be01414",
   "metadata": {},
   "outputs": [
    {
     "data": {
      "text/plain": [
       "0       Rio de Janeiro\n",
       "4       Rio de Janeiro\n",
       "5       Rio de Janeiro\n",
       "6       Rio de Janeiro\n",
       "7           Pernambuco\n",
       "             ...      \n",
       "6763        Pernambuco\n",
       "6765        Pernambuco\n",
       "6766    Rio de Janeiro\n",
       "6767    Rio de Janeiro\n",
       "6768    Rio de Janeiro\n",
       "Name: uf, Length: 6075, dtype: object"
      ]
     },
     "execution_count": 12,
     "metadata": {},
     "output_type": "execute_result"
    }
   ],
   "source": [
    "df_ocorrencias['uf']"
   ]
  },
  {
   "cell_type": "code",
   "execution_count": 13,
   "id": "9c7fa1b2-bd51-4976-b37b-07a1c4845037",
   "metadata": {},
   "outputs": [
    {
     "data": {
      "text/html": [
       "<div>\n",
       "<style scoped>\n",
       "    .dataframe tbody tr th:only-of-type {\n",
       "        vertical-align: middle;\n",
       "    }\n",
       "\n",
       "    .dataframe tbody tr th {\n",
       "        vertical-align: top;\n",
       "    }\n",
       "\n",
       "    .dataframe thead th {\n",
       "        text-align: right;\n",
       "    }\n",
       "</style>\n",
       "<table border=\"1\" class=\"dataframe\">\n",
       "  <thead>\n",
       "    <tr style=\"text-align: right;\">\n",
       "      <th></th>\n",
       "      <th>count</th>\n",
       "      <th>unique</th>\n",
       "      <th>top</th>\n",
       "      <th>freq</th>\n",
       "    </tr>\n",
       "  </thead>\n",
       "  <tbody>\n",
       "    <tr>\n",
       "      <th>uf</th>\n",
       "      <td>6075</td>\n",
       "      <td>3</td>\n",
       "      <td>Rio de Janeiro</td>\n",
       "      <td>2532</td>\n",
       "    </tr>\n",
       "    <tr>\n",
       "      <th>cidade</th>\n",
       "      <td>6075</td>\n",
       "      <td>48</td>\n",
       "      <td>RIO DE JANEIRO</td>\n",
       "      <td>1689</td>\n",
       "    </tr>\n",
       "    <tr>\n",
       "      <th>endereco</th>\n",
       "      <td>6075</td>\n",
       "      <td>5105</td>\n",
       "      <td>Morro dos Macacos - Vila Isabel, Rio de Janeir...</td>\n",
       "      <td>33</td>\n",
       "    </tr>\n",
       "    <tr>\n",
       "      <th>bairro</th>\n",
       "      <td>6075</td>\n",
       "      <td>884</td>\n",
       "      <td>CENTRO</td>\n",
       "      <td>106</td>\n",
       "    </tr>\n",
       "    <tr>\n",
       "      <th>sub_bairro</th>\n",
       "      <td>477</td>\n",
       "      <td>191</td>\n",
       "      <td>CURADO IV</td>\n",
       "      <td>14</td>\n",
       "    </tr>\n",
       "    <tr>\n",
       "      <th>localidade</th>\n",
       "      <td>2480</td>\n",
       "      <td>885</td>\n",
       "      <td>MORRO DOS MACACOS</td>\n",
       "      <td>81</td>\n",
       "    </tr>\n",
       "    <tr>\n",
       "      <th>fonte_ocorrencia</th>\n",
       "      <td>6075</td>\n",
       "      <td>3</td>\n",
       "      <td>Imprensa</td>\n",
       "      <td>4498</td>\n",
       "    </tr>\n",
       "    <tr>\n",
       "      <th>presenca_agentes</th>\n",
       "      <td>6075</td>\n",
       "      <td>2</td>\n",
       "      <td>Não</td>\n",
       "      <td>4204</td>\n",
       "    </tr>\n",
       "    <tr>\n",
       "      <th>acao_policial</th>\n",
       "      <td>6075</td>\n",
       "      <td>2</td>\n",
       "      <td>Não</td>\n",
       "      <td>4415</td>\n",
       "    </tr>\n",
       "    <tr>\n",
       "      <th>chacina_ocorrencia</th>\n",
       "      <td>6075</td>\n",
       "      <td>2</td>\n",
       "      <td>Não</td>\n",
       "      <td>5996</td>\n",
       "    </tr>\n",
       "    <tr>\n",
       "      <th>unidades_policiais</th>\n",
       "      <td>1685</td>\n",
       "      <td>625</td>\n",
       "      <td>PM</td>\n",
       "      <td>69</td>\n",
       "    </tr>\n",
       "    <tr>\n",
       "      <th>motivo_principal</th>\n",
       "      <td>6075</td>\n",
       "      <td>17</td>\n",
       "      <td>Homicidio/Tentativa</td>\n",
       "      <td>2530</td>\n",
       "    </tr>\n",
       "    <tr>\n",
       "      <th>motivos_complementares</th>\n",
       "      <td>2754</td>\n",
       "      <td>28</td>\n",
       "      <td>Não identificado</td>\n",
       "      <td>2251</td>\n",
       "    </tr>\n",
       "    <tr>\n",
       "      <th>outros_recortes</th>\n",
       "      <td>379</td>\n",
       "      <td>21</td>\n",
       "      <td>Perseguição</td>\n",
       "      <td>148</td>\n",
       "    </tr>\n",
       "    <tr>\n",
       "      <th>transporte_interrompido</th>\n",
       "      <td>6075</td>\n",
       "      <td>1</td>\n",
       "      <td>Não</td>\n",
       "      <td>6075</td>\n",
       "    </tr>\n",
       "    <tr>\n",
       "      <th>ocorrencia_relacionada</th>\n",
       "      <td>49</td>\n",
       "      <td>41</td>\n",
       "      <td>62.573</td>\n",
       "      <td>4</td>\n",
       "    </tr>\n",
       "  </tbody>\n",
       "</table>\n",
       "</div>"
      ],
      "text/plain": [
       "                        count unique  \\\n",
       "uf                       6075      3   \n",
       "cidade                   6075     48   \n",
       "endereco                 6075   5105   \n",
       "bairro                   6075    884   \n",
       "sub_bairro                477    191   \n",
       "localidade               2480    885   \n",
       "fonte_ocorrencia         6075      3   \n",
       "presenca_agentes         6075      2   \n",
       "acao_policial            6075      2   \n",
       "chacina_ocorrencia       6075      2   \n",
       "unidades_policiais       1685    625   \n",
       "motivo_principal         6075     17   \n",
       "motivos_complementares   2754     28   \n",
       "outros_recortes           379     21   \n",
       "transporte_interrompido  6075      1   \n",
       "ocorrencia_relacionada     49     41   \n",
       "\n",
       "                                                                       top  \\\n",
       "uf                                                          Rio de Janeiro   \n",
       "cidade                                                      RIO DE JANEIRO   \n",
       "endereco                 Morro dos Macacos - Vila Isabel, Rio de Janeir...   \n",
       "bairro                                                              CENTRO   \n",
       "sub_bairro                                                       CURADO IV   \n",
       "localidade                                               MORRO DOS MACACOS   \n",
       "fonte_ocorrencia                                                  Imprensa   \n",
       "presenca_agentes                                                       Não   \n",
       "acao_policial                                                          Não   \n",
       "chacina_ocorrencia                                                     Não   \n",
       "unidades_policiais                                                      PM   \n",
       "motivo_principal                                       Homicidio/Tentativa   \n",
       "motivos_complementares                                    Não identificado   \n",
       "outros_recortes                                                Perseguição   \n",
       "transporte_interrompido                                                Não   \n",
       "ocorrencia_relacionada                                              62.573   \n",
       "\n",
       "                         freq  \n",
       "uf                       2532  \n",
       "cidade                   1689  \n",
       "endereco                   33  \n",
       "bairro                    106  \n",
       "sub_bairro                 14  \n",
       "localidade                 81  \n",
       "fonte_ocorrencia         4498  \n",
       "presenca_agentes         4204  \n",
       "acao_policial            4415  \n",
       "chacina_ocorrencia       5996  \n",
       "unidades_policiais         69  \n",
       "motivo_principal         2530  \n",
       "motivos_complementares   2251  \n",
       "outros_recortes           148  \n",
       "transporte_interrompido  6075  \n",
       "ocorrencia_relacionada      4  "
      ]
     },
     "execution_count": 13,
     "metadata": {},
     "output_type": "execute_result"
    }
   ],
   "source": [
    "df_ocorrencias.describe(include='object').T"
   ]
  },
  {
   "cell_type": "code",
   "execution_count": 14,
   "id": "1ca49c65-1cc1-49c7-94fe-11e7530a4a5f",
   "metadata": {},
   "outputs": [
    {
     "data": {
      "text/html": [
       "<div>\n",
       "<style scoped>\n",
       "    .dataframe tbody tr th:only-of-type {\n",
       "        vertical-align: middle;\n",
       "    }\n",
       "\n",
       "    .dataframe tbody tr th {\n",
       "        vertical-align: top;\n",
       "    }\n",
       "\n",
       "    .dataframe thead th {\n",
       "        text-align: right;\n",
       "    }\n",
       "</style>\n",
       "<table border=\"1\" class=\"dataframe\">\n",
       "  <thead>\n",
       "    <tr style=\"text-align: right;\">\n",
       "      <th></th>\n",
       "      <th>id_ocorrencia</th>\n",
       "      <th>uf</th>\n",
       "      <th>cidade</th>\n",
       "      <th>endereco</th>\n",
       "      <th>bairro</th>\n",
       "      <th>sub_bairro</th>\n",
       "      <th>localidade</th>\n",
       "      <th>latitude</th>\n",
       "      <th>longitude</th>\n",
       "      <th>data_ocorrencia</th>\n",
       "      <th>...</th>\n",
       "      <th>civis_feridos_ocorrencia</th>\n",
       "      <th>agentes_mortos_ocorrencia</th>\n",
       "      <th>agentes_feridos_ocorrencia</th>\n",
       "      <th>chacina_ocorrencia</th>\n",
       "      <th>unidades_policiais</th>\n",
       "      <th>motivo_principal</th>\n",
       "      <th>motivos_complementares</th>\n",
       "      <th>outros_recortes</th>\n",
       "      <th>transporte_interrompido</th>\n",
       "      <th>ocorrencia_relacionada</th>\n",
       "    </tr>\n",
       "  </thead>\n",
       "  <tbody>\n",
       "    <tr>\n",
       "      <th>0</th>\n",
       "      <td>69532</td>\n",
       "      <td>Rio de Janeiro</td>\n",
       "      <td>SÃO GONÇALO</td>\n",
       "      <td>Laranjal, São Gonçalo - RJ, Brasil</td>\n",
       "      <td>LARANJAL</td>\n",
       "      <td>NaN</td>\n",
       "      <td>NaN</td>\n",
       "      <td>-22.812829</td>\n",
       "      <td>-42.992906</td>\n",
       "      <td>2024-12-29 13:00:00</td>\n",
       "      <td>...</td>\n",
       "      <td>NaN</td>\n",
       "      <td>NaN</td>\n",
       "      <td>NaN</td>\n",
       "      <td>Não</td>\n",
       "      <td>NaN</td>\n",
       "      <td>Homicidio/Tentativa</td>\n",
       "      <td>NaN</td>\n",
       "      <td>Ataques armados sobre rodas</td>\n",
       "      <td>Não</td>\n",
       "      <td>NaN</td>\n",
       "    </tr>\n",
       "    <tr>\n",
       "      <th>4</th>\n",
       "      <td>68984</td>\n",
       "      <td>Rio de Janeiro</td>\n",
       "      <td>RIO DE JANEIRO</td>\n",
       "      <td>Morro do Fubá (Complexo do Fubá) - Cascadura, ...</td>\n",
       "      <td>CASCADURA</td>\n",
       "      <td>NaN</td>\n",
       "      <td>MORRO DO FUBA (COMPLEXO DO FUBA)</td>\n",
       "      <td>-22.892325</td>\n",
       "      <td>-43.333779</td>\n",
       "      <td>2024-12-30 15:00:00</td>\n",
       "      <td>...</td>\n",
       "      <td>NaN</td>\n",
       "      <td>NaN</td>\n",
       "      <td>NaN</td>\n",
       "      <td>Não</td>\n",
       "      <td>NaN</td>\n",
       "      <td>Disputa</td>\n",
       "      <td>NaN</td>\n",
       "      <td>Bar</td>\n",
       "      <td>Não</td>\n",
       "      <td>NaN</td>\n",
       "    </tr>\n",
       "    <tr>\n",
       "      <th>5</th>\n",
       "      <td>68982</td>\n",
       "      <td>Rio de Janeiro</td>\n",
       "      <td>SÃO JOÃO DE MERITI</td>\n",
       "      <td>Jardim Jose Bonifacio, São João de Meriti - R...</td>\n",
       "      <td>VENDA VELHA</td>\n",
       "      <td>JARDIM JOSE BONIFACIO</td>\n",
       "      <td>NaN</td>\n",
       "      <td>-22.795301</td>\n",
       "      <td>-43.361058</td>\n",
       "      <td>2024-12-31 20:00:00</td>\n",
       "      <td>...</td>\n",
       "      <td>NaN</td>\n",
       "      <td>NaN</td>\n",
       "      <td>NaN</td>\n",
       "      <td>Não</td>\n",
       "      <td>NaN</td>\n",
       "      <td>Homicidio/Tentativa</td>\n",
       "      <td>NaN</td>\n",
       "      <td>NaN</td>\n",
       "      <td>Não</td>\n",
       "      <td>NaN</td>\n",
       "    </tr>\n",
       "    <tr>\n",
       "      <th>6</th>\n",
       "      <td>68980</td>\n",
       "      <td>Rio de Janeiro</td>\n",
       "      <td>DUQUE DE CAXIAS</td>\n",
       "      <td>Corte 8 (Complexo da Mangueirinha) - Vila Cent...</td>\n",
       "      <td>CENTENARIO</td>\n",
       "      <td>NaN</td>\n",
       "      <td>CORTE 8 (COMPLEXO DA MANGUEIRINHA)</td>\n",
       "      <td>-22.772523</td>\n",
       "      <td>-43.309803</td>\n",
       "      <td>2024-12-31 10:30:00</td>\n",
       "      <td>...</td>\n",
       "      <td>NaN</td>\n",
       "      <td>NaN</td>\n",
       "      <td>NaN</td>\n",
       "      <td>Não</td>\n",
       "      <td>PM</td>\n",
       "      <td>Tentativa/Roubo de cargas</td>\n",
       "      <td>Ação policial</td>\n",
       "      <td>NaN</td>\n",
       "      <td>Não</td>\n",
       "      <td>NaN</td>\n",
       "    </tr>\n",
       "    <tr>\n",
       "      <th>7</th>\n",
       "      <td>68979</td>\n",
       "      <td>Pernambuco</td>\n",
       "      <td>RECIFE</td>\n",
       "      <td>Jardim Uchôa - Rua Santa Joana D'arc - Areias,...</td>\n",
       "      <td>AREIAS</td>\n",
       "      <td>NaN</td>\n",
       "      <td>JARDIM UCHOA</td>\n",
       "      <td>-8.100052</td>\n",
       "      <td>-34.936925</td>\n",
       "      <td>2024-12-31 22:30:00</td>\n",
       "      <td>...</td>\n",
       "      <td>NaN</td>\n",
       "      <td>NaN</td>\n",
       "      <td>NaN</td>\n",
       "      <td>Não</td>\n",
       "      <td>NaN</td>\n",
       "      <td>Homicidio/Tentativa</td>\n",
       "      <td>Não identificado</td>\n",
       "      <td>NaN</td>\n",
       "      <td>Não</td>\n",
       "      <td>NaN</td>\n",
       "    </tr>\n",
       "  </tbody>\n",
       "</table>\n",
       "<p>5 rows × 26 columns</p>\n",
       "</div>"
      ],
      "text/plain": [
       "   id_ocorrencia              uf              cidade  \\\n",
       "0          69532  Rio de Janeiro         SÃO GONÇALO   \n",
       "4          68984  Rio de Janeiro      RIO DE JANEIRO   \n",
       "5          68982  Rio de Janeiro  SÃO JOÃO DE MERITI   \n",
       "6          68980  Rio de Janeiro     DUQUE DE CAXIAS   \n",
       "7          68979      Pernambuco              RECIFE   \n",
       "\n",
       "                                            endereco       bairro  \\\n",
       "0                 Laranjal, São Gonçalo - RJ, Brasil     LARANJAL   \n",
       "4  Morro do Fubá (Complexo do Fubá) - Cascadura, ...    CASCADURA   \n",
       "5   Jardim Jose Bonifacio, São João de Meriti - R...  VENDA VELHA   \n",
       "6  Corte 8 (Complexo da Mangueirinha) - Vila Cent...   CENTENARIO   \n",
       "7  Jardim Uchôa - Rua Santa Joana D'arc - Areias,...       AREIAS   \n",
       "\n",
       "              sub_bairro                          localidade   latitude  \\\n",
       "0                    NaN                                 NaN -22.812829   \n",
       "4                    NaN    MORRO DO FUBA (COMPLEXO DO FUBA) -22.892325   \n",
       "5  JARDIM JOSE BONIFACIO                                 NaN -22.795301   \n",
       "6                    NaN  CORTE 8 (COMPLEXO DA MANGUEIRINHA) -22.772523   \n",
       "7                    NaN                        JARDIM UCHOA  -8.100052   \n",
       "\n",
       "   longitude     data_ocorrencia  ... civis_feridos_ocorrencia  \\\n",
       "0 -42.992906 2024-12-29 13:00:00  ...                      NaN   \n",
       "4 -43.333779 2024-12-30 15:00:00  ...                      NaN   \n",
       "5 -43.361058 2024-12-31 20:00:00  ...                      NaN   \n",
       "6 -43.309803 2024-12-31 10:30:00  ...                      NaN   \n",
       "7 -34.936925 2024-12-31 22:30:00  ...                      NaN   \n",
       "\n",
       "  agentes_mortos_ocorrencia agentes_feridos_ocorrencia chacina_ocorrencia  \\\n",
       "0                       NaN                        NaN                Não   \n",
       "4                       NaN                        NaN                Não   \n",
       "5                       NaN                        NaN                Não   \n",
       "6                       NaN                        NaN                Não   \n",
       "7                       NaN                        NaN                Não   \n",
       "\n",
       "  unidades_policiais           motivo_principal  motivos_complementares  \\\n",
       "0                NaN        Homicidio/Tentativa                     NaN   \n",
       "4                NaN                    Disputa                     NaN   \n",
       "5                NaN        Homicidio/Tentativa                     NaN   \n",
       "6                 PM  Tentativa/Roubo de cargas           Ação policial   \n",
       "7                NaN        Homicidio/Tentativa        Não identificado   \n",
       "\n",
       "               outros_recortes  transporte_interrompido ocorrencia_relacionada  \n",
       "0  Ataques armados sobre rodas                      Não                    NaN  \n",
       "4                          Bar                      Não                    NaN  \n",
       "5                          NaN                      Não                    NaN  \n",
       "6                          NaN                      Não                    NaN  \n",
       "7                          NaN                      Não                    NaN  \n",
       "\n",
       "[5 rows x 26 columns]"
      ]
     },
     "execution_count": 14,
     "metadata": {},
     "output_type": "execute_result"
    }
   ],
   "source": [
    "df_ocorrencias.head()"
   ]
  },
  {
   "cell_type": "code",
   "execution_count": 15,
   "id": "a81fed95",
   "metadata": {},
   "outputs": [
    {
     "data": {
      "text/plain": [
       "array(['Imprensa', 'Usuário', 'Polícia'], dtype=object)"
      ]
     },
     "execution_count": 15,
     "metadata": {},
     "output_type": "execute_result"
    }
   ],
   "source": [
    "df_ocorrencias['fonte_ocorrencia'].unique()"
   ]
  },
  {
   "cell_type": "code",
   "execution_count": 16,
   "id": "8204b74f",
   "metadata": {},
   "outputs": [
    {
     "data": {
      "text/plain": [
       "array(['Homicidio/Tentativa', 'Disputa', 'Tentativa/Roubo de cargas',\n",
       "       'Ação policial', 'Não identificado', 'Operação policial',\n",
       "       'Ataque a civis', 'Tentativa/Roubo', 'Tiros a esmo', 'Briga',\n",
       "       'Tortura', 'Disparo Acidental', 'Outro', 'Arrastão',\n",
       "       'Sequestro/Cárcere Privado', 'Suicídio', 'Tentativa/Roubo a banco'],\n",
       "      dtype=object)"
      ]
     },
     "execution_count": 16,
     "metadata": {},
     "output_type": "execute_result"
    }
   ],
   "source": [
    "df_ocorrencias['motivo_principal'].unique()"
   ]
  },
  {
   "cell_type": "code",
   "execution_count": 17,
   "id": "5ffe4dd6-4f31-4029-9551-ad43263f0a25",
   "metadata": {},
   "outputs": [
    {
     "data": {
      "text/html": [
       "<div>\n",
       "<style scoped>\n",
       "    .dataframe tbody tr th:only-of-type {\n",
       "        vertical-align: middle;\n",
       "    }\n",
       "\n",
       "    .dataframe tbody tr th {\n",
       "        vertical-align: top;\n",
       "    }\n",
       "\n",
       "    .dataframe thead th {\n",
       "        text-align: right;\n",
       "    }\n",
       "</style>\n",
       "<table border=\"1\" class=\"dataframe\">\n",
       "  <thead>\n",
       "    <tr style=\"text-align: right;\">\n",
       "      <th></th>\n",
       "      <th>id_ocorrencia</th>\n",
       "      <th>uf</th>\n",
       "      <th>endereco</th>\n",
       "      <th>cidade</th>\n",
       "      <th>bairro</th>\n",
       "      <th>sub_bairro</th>\n",
       "      <th>localidade</th>\n",
       "      <th>latitude</th>\n",
       "      <th>longitude</th>\n",
       "      <th>data_ocorrencia</th>\n",
       "      <th>...</th>\n",
       "      <th>status_servico</th>\n",
       "      <th>observacoes_gerais</th>\n",
       "      <th>status_politico</th>\n",
       "      <th>posicao_politico</th>\n",
       "      <th>partido_político</th>\n",
       "      <th>unidade_agente</th>\n",
       "      <th>posicao_agente</th>\n",
       "      <th>coorporacao_agente</th>\n",
       "      <th>status_agente</th>\n",
       "      <th>tipo_pessoa</th>\n",
       "    </tr>\n",
       "  </thead>\n",
       "  <tbody>\n",
       "    <tr>\n",
       "      <th>0</th>\n",
       "      <td>69532</td>\n",
       "      <td>Rio de Janeiro</td>\n",
       "      <td>Laranjal, São Gonçalo - RJ, Brasil</td>\n",
       "      <td>SÃO GONÇALO</td>\n",
       "      <td>LARANJAL</td>\n",
       "      <td>NaN</td>\n",
       "      <td>NaN</td>\n",
       "      <td>-22.812829</td>\n",
       "      <td>-42.992906</td>\n",
       "      <td>2024-12-29</td>\n",
       "      <td>...</td>\n",
       "      <td>Não se aplica</td>\n",
       "      <td>NaN</td>\n",
       "      <td>Não se aplica</td>\n",
       "      <td>Não se aplica</td>\n",
       "      <td>NaN</td>\n",
       "      <td>NaN</td>\n",
       "      <td>Não se aplica</td>\n",
       "      <td>Não se aplica</td>\n",
       "      <td>Não se aplica</td>\n",
       "      <td>Civíl</td>\n",
       "    </tr>\n",
       "    <tr>\n",
       "      <th>4</th>\n",
       "      <td>68984</td>\n",
       "      <td>Rio de Janeiro</td>\n",
       "      <td>Morro do Fubá (Complexo do Fubá) - Cascadura, ...</td>\n",
       "      <td>RIO DE JANEIRO</td>\n",
       "      <td>CASCADURA</td>\n",
       "      <td>NaN</td>\n",
       "      <td>MORRO DO FUBA (COMPLEXO DO FUBA)</td>\n",
       "      <td>-22.892325</td>\n",
       "      <td>-43.333779</td>\n",
       "      <td>2024-12-30</td>\n",
       "      <td>...</td>\n",
       "      <td>Não se aplica</td>\n",
       "      <td>NaN</td>\n",
       "      <td>Não se aplica</td>\n",
       "      <td>Não se aplica</td>\n",
       "      <td>NaN</td>\n",
       "      <td>NaN</td>\n",
       "      <td>Não se aplica</td>\n",
       "      <td>Não se aplica</td>\n",
       "      <td>Não se aplica</td>\n",
       "      <td>Civíl</td>\n",
       "    </tr>\n",
       "    <tr>\n",
       "      <th>5</th>\n",
       "      <td>68984</td>\n",
       "      <td>Rio de Janeiro</td>\n",
       "      <td>Morro do Fubá (Complexo do Fubá) - Cascadura, ...</td>\n",
       "      <td>RIO DE JANEIRO</td>\n",
       "      <td>CASCADURA</td>\n",
       "      <td>NaN</td>\n",
       "      <td>MORRO DO FUBA (COMPLEXO DO FUBA)</td>\n",
       "      <td>-22.892325</td>\n",
       "      <td>-43.333779</td>\n",
       "      <td>2024-12-30</td>\n",
       "      <td>...</td>\n",
       "      <td>Não se aplica</td>\n",
       "      <td>NaN</td>\n",
       "      <td>Não se aplica</td>\n",
       "      <td>Não se aplica</td>\n",
       "      <td>NaN</td>\n",
       "      <td>NaN</td>\n",
       "      <td>Não se aplica</td>\n",
       "      <td>Não se aplica</td>\n",
       "      <td>Não se aplica</td>\n",
       "      <td>Civíl</td>\n",
       "    </tr>\n",
       "    <tr>\n",
       "      <th>6</th>\n",
       "      <td>68982</td>\n",
       "      <td>Rio de Janeiro</td>\n",
       "      <td>Jardim Jose Bonifacio, São João de Meriti - R...</td>\n",
       "      <td>SÃO JOÃO DE MERITI</td>\n",
       "      <td>VENDA VELHA</td>\n",
       "      <td>JARDIM JOSE BONIFACIO</td>\n",
       "      <td>NaN</td>\n",
       "      <td>-22.795301</td>\n",
       "      <td>-43.361058</td>\n",
       "      <td>2024-12-31</td>\n",
       "      <td>...</td>\n",
       "      <td>Não se aplica</td>\n",
       "      <td>NaN</td>\n",
       "      <td>Não se aplica</td>\n",
       "      <td>Não se aplica</td>\n",
       "      <td>NaN</td>\n",
       "      <td>NaN</td>\n",
       "      <td>Não se aplica</td>\n",
       "      <td>Não se aplica</td>\n",
       "      <td>Não se aplica</td>\n",
       "      <td>Civíl</td>\n",
       "    </tr>\n",
       "    <tr>\n",
       "      <th>7</th>\n",
       "      <td>68982</td>\n",
       "      <td>Rio de Janeiro</td>\n",
       "      <td>Jardim Jose Bonifacio, São João de Meriti - R...</td>\n",
       "      <td>SÃO JOÃO DE MERITI</td>\n",
       "      <td>VENDA VELHA</td>\n",
       "      <td>JARDIM JOSE BONIFACIO</td>\n",
       "      <td>NaN</td>\n",
       "      <td>-22.795301</td>\n",
       "      <td>-43.361058</td>\n",
       "      <td>2024-12-31</td>\n",
       "      <td>...</td>\n",
       "      <td>Não se aplica</td>\n",
       "      <td>NaN</td>\n",
       "      <td>Não se aplica</td>\n",
       "      <td>Não se aplica</td>\n",
       "      <td>NaN</td>\n",
       "      <td>NaN</td>\n",
       "      <td>Não se aplica</td>\n",
       "      <td>Não se aplica</td>\n",
       "      <td>Não se aplica</td>\n",
       "      <td>Civíl</td>\n",
       "    </tr>\n",
       "  </tbody>\n",
       "</table>\n",
       "<p>5 rows × 39 columns</p>\n",
       "</div>"
      ],
      "text/plain": [
       "   id_ocorrencia              uf  \\\n",
       "0          69532  Rio de Janeiro   \n",
       "4          68984  Rio de Janeiro   \n",
       "5          68984  Rio de Janeiro   \n",
       "6          68982  Rio de Janeiro   \n",
       "7          68982  Rio de Janeiro   \n",
       "\n",
       "                                            endereco              cidade  \\\n",
       "0                 Laranjal, São Gonçalo - RJ, Brasil         SÃO GONÇALO   \n",
       "4  Morro do Fubá (Complexo do Fubá) - Cascadura, ...      RIO DE JANEIRO   \n",
       "5  Morro do Fubá (Complexo do Fubá) - Cascadura, ...      RIO DE JANEIRO   \n",
       "6   Jardim Jose Bonifacio, São João de Meriti - R...  SÃO JOÃO DE MERITI   \n",
       "7   Jardim Jose Bonifacio, São João de Meriti - R...  SÃO JOÃO DE MERITI   \n",
       "\n",
       "        bairro             sub_bairro                        localidade  \\\n",
       "0     LARANJAL                    NaN                               NaN   \n",
       "4    CASCADURA                    NaN  MORRO DO FUBA (COMPLEXO DO FUBA)   \n",
       "5    CASCADURA                    NaN  MORRO DO FUBA (COMPLEXO DO FUBA)   \n",
       "6  VENDA VELHA  JARDIM JOSE BONIFACIO                               NaN   \n",
       "7  VENDA VELHA  JARDIM JOSE BONIFACIO                               NaN   \n",
       "\n",
       "    latitude  longitude data_ocorrencia  ... status_servico  \\\n",
       "0 -22.812829 -42.992906      2024-12-29  ...  Não se aplica   \n",
       "4 -22.892325 -43.333779      2024-12-30  ...  Não se aplica   \n",
       "5 -22.892325 -43.333779      2024-12-30  ...  Não se aplica   \n",
       "6 -22.795301 -43.361058      2024-12-31  ...  Não se aplica   \n",
       "7 -22.795301 -43.361058      2024-12-31  ...  Não se aplica   \n",
       "\n",
       "  observacoes_gerais status_politico posicao_politico partido_político  \\\n",
       "0                NaN   Não se aplica    Não se aplica              NaN   \n",
       "4                NaN   Não se aplica    Não se aplica              NaN   \n",
       "5                NaN   Não se aplica    Não se aplica              NaN   \n",
       "6                NaN   Não se aplica    Não se aplica              NaN   \n",
       "7                NaN   Não se aplica    Não se aplica              NaN   \n",
       "\n",
       "  unidade_agente posicao_agente coorporacao_agente  status_agente tipo_pessoa  \n",
       "0            NaN  Não se aplica      Não se aplica  Não se aplica       Civíl  \n",
       "4            NaN  Não se aplica      Não se aplica  Não se aplica       Civíl  \n",
       "5            NaN  Não se aplica      Não se aplica  Não se aplica       Civíl  \n",
       "6            NaN  Não se aplica      Não se aplica  Não se aplica       Civíl  \n",
       "7            NaN  Não se aplica      Não se aplica  Não se aplica       Civíl  \n",
       "\n",
       "[5 rows x 39 columns]"
      ]
     },
     "execution_count": 17,
     "metadata": {},
     "output_type": "execute_result"
    }
   ],
   "source": [
    "df_vitimas.head()"
   ]
  },
  {
   "cell_type": "markdown",
   "id": "327bbd6c-75f7-47a9-9431-2cb72ccd16c1",
   "metadata": {},
   "source": [
    "## 1.1 - Quantos tiroteios o Instituto Fogo Cruzado registrou em 2024? E qual porcentagem ocorreu em ações policiais?\n",
    "\n",
    "Foram registrados 6769 tiroteios em 2024 dos quais 1949 ocorreram em ações policiais."
   ]
  },
  {
   "cell_type": "code",
   "execution_count": 18,
   "id": "01e0ecf7-4395-4c5a-ac0b-0f6d53fe97ad",
   "metadata": {},
   "outputs": [
    {
     "data": {
      "text/plain": [
       "0"
      ]
     },
     "execution_count": 18,
     "metadata": {},
     "output_type": "execute_result"
    }
   ],
   "source": [
    "# Verificando se há a ids duplicados\n",
    "sum(df_ocorrencias['id_ocorrencia'].duplicated())"
   ]
  },
  {
   "cell_type": "code",
   "execution_count": 19,
   "id": "a2baf831-ca3a-42cb-8080-d25b13df70ab",
   "metadata": {},
   "outputs": [
    {
     "data": {
      "text/plain": [
       "(6075, 26)"
      ]
     },
     "execution_count": 19,
     "metadata": {},
     "output_type": "execute_result"
    }
   ],
   "source": [
    "df_ocorrencias.shape"
   ]
  },
  {
   "cell_type": "code",
   "execution_count": 20,
   "id": "d30e22d9-f409-488d-9a52-79f813b88de4",
   "metadata": {},
   "outputs": [
    {
     "data": {
      "text/plain": [
       "acao_policial\n",
       "Não    4415\n",
       "Sim    1660\n",
       "Name: count, dtype: int64"
      ]
     },
     "execution_count": 20,
     "metadata": {},
     "output_type": "execute_result"
    }
   ],
   "source": [
    "df_ocorrencias['acao_policial'].value_counts()"
   ]
  },
  {
   "cell_type": "code",
   "execution_count": 21,
   "id": "54e67e42-ec89-467d-874e-6b1143e17c07",
   "metadata": {},
   "outputs": [
    {
     "data": {
      "text/plain": [
       "motivo_principal\n",
       "Homicidio/Tentativa          2530\n",
       "Ação policial                1145\n",
       "Não identificado             1047\n",
       "Tentativa/Roubo               419\n",
       "Disputa                       368\n",
       "Operação policial             318\n",
       "Briga                          93\n",
       "Tiros a esmo                   35\n",
       "Ataque a civis                 34\n",
       "Tentativa/Roubo de cargas      19\n",
       "Arrastão                       16\n",
       "Sequestro/Cárcere Privado      13\n",
       "Disparo Acidental              11\n",
       "Tortura                        10\n",
       "Outro                          10\n",
       "Suicídio                        6\n",
       "Tentativa/Roubo a banco         1\n",
       "Name: count, dtype: int64"
      ]
     },
     "execution_count": 21,
     "metadata": {},
     "output_type": "execute_result"
    }
   ],
   "source": [
    "df_ocorrencias['motivo_principal'].value_counts()"
   ]
  },
  {
   "cell_type": "code",
   "execution_count": 22,
   "id": "b15e2408-c113-4ab5-9f33-658a52576f30",
   "metadata": {},
   "outputs": [
    {
     "data": {
      "image/png": "[encoded data removed]",
      "text/plain": [
       "<Figure size 800x800 with 1 Axes>"
      ]
     },
     "metadata": {},
     "output_type": "display_data"
    }
   ],
   "source": [
    "plt.figure(figsize=(8,8))\n",
    "sns.set(font_scale = 1.3)\n",
    "\n",
    "labels = df_ocorrencias['acao_policial'].value_counts().index\n",
    "values = df_ocorrencias['acao_policial'].value_counts()\n",
    "\n",
    "\n",
    "patches, texts, _ = plt.pie(\n",
    "    values, \n",
    "    labels=['Outras circunstâncias'.upper(), 'Ações policiais'.upper()], \n",
    "    autopct='%1.2f%%', \n",
    "    colors=sns.color_palette('deep'),\n",
    "    explode=[0.08, 0],\n",
    "    startangle=90\n",
    ")\n",
    "\n",
    "for text in texts:\n",
    "    text.set_fontweight('bold')\n",
    "    #text.set_horizontalalignment('center')\n",
    "\n",
    "plt.savefig('proporcao_tiroteios.png', bbox_inches='tight')\n",
    "plt.show()"
   ]
  },
  {
   "cell_type": "markdown",
   "id": "de9101a7-e107-4115-932a-b299b7373e8d",
   "metadata": {},
   "source": [
    "## 1.2 - Quantas chacinas foram registradas em 2024? e qual estado registrou menos vítimas desse fenômeno?"
   ]
  },
  {
   "cell_type": "code",
   "execution_count": 23,
   "id": "c0128326-0e19-4fcc-96bc-a7554c80bdc5",
   "metadata": {},
   "outputs": [],
   "source": [
    "# Selecionando as ocorrências de chacinas\n",
    "df_chacinas = df_ocorrencias.query('chacina_ocorrencia == \"Sim\"').copy()"
   ]
  },
  {
   "cell_type": "code",
   "execution_count": 24,
   "id": "a48b5d12-d9b4-40bb-8573-69b793afd341",
   "metadata": {},
   "outputs": [
    {
     "data": {
      "text/plain": [
       "(79, 26)"
      ]
     },
     "execution_count": 24,
     "metadata": {},
     "output_type": "execute_result"
    }
   ],
   "source": [
    "df_chacinas.shape"
   ]
  },
  {
   "cell_type": "code",
   "execution_count": 25,
   "id": "3f3555f9-f1ce-436a-afa2-91d0f4e0fed8",
   "metadata": {},
   "outputs": [],
   "source": [
    "# Selecionando os ids de chacinas\n",
    "ids_chacinas = df_chacinas['id_ocorrencia']"
   ]
  },
  {
   "cell_type": "code",
   "execution_count": 26,
   "id": "a9d97bad-6924-453e-83f8-ca719392fb9e",
   "metadata": {},
   "outputs": [],
   "source": [
    "# Filtrando as vítimas com id de chacinas\n",
    "vitimas_chacina = df_vitimas[df_vitimas['id_ocorrencia'].isin(ids_chacinas)]"
   ]
  },
  {
   "cell_type": "code",
   "execution_count": 27,
   "id": "49a8dc77-91c5-434c-a448-76d9aa2a9f84",
   "metadata": {},
   "outputs": [
    {
     "data": {
      "text/plain": [
       "(325, 39)"
      ]
     },
     "execution_count": 27,
     "metadata": {},
     "output_type": "execute_result"
    }
   ],
   "source": [
    "vitimas_chacina.shape"
   ]
  },
  {
   "cell_type": "code",
   "execution_count": 28,
   "id": "e814c613-54e7-4dc1-9847-6b6410309036",
   "metadata": {},
   "outputs": [
    {
     "data": {
      "text/html": [
       "<div>\n",
       "<style scoped>\n",
       "    .dataframe tbody tr th:only-of-type {\n",
       "        vertical-align: middle;\n",
       "    }\n",
       "\n",
       "    .dataframe tbody tr th {\n",
       "        vertical-align: top;\n",
       "    }\n",
       "\n",
       "    .dataframe thead th {\n",
       "        text-align: right;\n",
       "    }\n",
       "</style>\n",
       "<table border=\"1\" class=\"dataframe\">\n",
       "  <thead>\n",
       "    <tr style=\"text-align: right;\">\n",
       "      <th></th>\n",
       "      <th>Vítimas</th>\n",
       "    </tr>\n",
       "    <tr>\n",
       "      <th>circunstancias_vitima</th>\n",
       "      <th></th>\n",
       "    </tr>\n",
       "  </thead>\n",
       "  <tbody>\n",
       "    <tr>\n",
       "      <th>Chacina</th>\n",
       "      <td>294</td>\n",
       "    </tr>\n",
       "    <tr>\n",
       "      <th>Bala perdida,Chacina</th>\n",
       "      <td>14</td>\n",
       "    </tr>\n",
       "    <tr>\n",
       "      <th>Chacina,Encontro de cadáver</th>\n",
       "      <td>9</td>\n",
       "    </tr>\n",
       "    <tr>\n",
       "      <th>Sem identificação</th>\n",
       "      <td>7</td>\n",
       "    </tr>\n",
       "    <tr>\n",
       "      <th>Chacina,Sem identificação</th>\n",
       "      <td>1</td>\n",
       "    </tr>\n",
       "  </tbody>\n",
       "</table>\n",
       "</div>"
      ],
      "text/plain": [
       "                             Vítimas\n",
       "circunstancias_vitima               \n",
       "Chacina                          294\n",
       "Bala perdida,Chacina              14\n",
       "Chacina,Encontro de cadáver        9\n",
       "Sem identificação                  7\n",
       "Chacina,Sem identificação          1"
      ]
     },
     "execution_count": 28,
     "metadata": {},
     "output_type": "execute_result"
    }
   ],
   "source": [
    "vitimas_chacina['circunstancias_vitima'].value_counts().to_frame().rename(columns={'count':'Vítimas'})"
   ]
  },
  {
   "cell_type": "code",
   "execution_count": 29,
   "id": "648d6634-ba53-48a3-bcf5-99dcef911e12",
   "metadata": {},
   "outputs": [
    {
     "data": {
      "text/plain": [
       "uf\n",
       "Rio de Janeiro    208\n",
       "Bahia              95\n",
       "Pernambuco         15\n",
       "Name: count, dtype: int64"
      ]
     },
     "execution_count": 29,
     "metadata": {},
     "output_type": "execute_result"
    }
   ],
   "source": [
    "vitimas_chacina.query('circunstancias_vitima != \"Sem identificação\"')['uf'].value_counts()"
   ]
  },
  {
   "cell_type": "code",
   "execution_count": 30,
   "id": "9a7ad6a1-cb14-47d4-8695-324f6eb13048",
   "metadata": {},
   "outputs": [
    {
     "data": {
      "text/plain": [
       "circunstancias_vitima\n",
       "Sem identificação              4533\n",
       "Chacina                         294\n",
       "Bala perdida                    185\n",
       "Encontro de cadáver             176\n",
       "Feminicídio/tentativa            26\n",
       "Bala perdida,Chacina             14\n",
       "Suicídio                         12\n",
       "Chacina,Encontro de cadáver       9\n",
       "Chacina,Sem identificação         1\n",
       "Name: count, dtype: int64"
      ]
     },
     "execution_count": 30,
     "metadata": {},
     "output_type": "execute_result"
    }
   ],
   "source": [
    "df_vitimas['circunstancias_vitima'].value_counts()"
   ]
  },
  {
   "cell_type": "code",
   "execution_count": 31,
   "id": "08435cd0-4839-4727-b5aa-0b0e71014c7c",
   "metadata": {},
   "outputs": [
    {
     "data": {
      "text/plain": [
       "318"
      ]
     },
     "execution_count": 31,
     "metadata": {},
     "output_type": "execute_result"
    }
   ],
   "source": [
    "sum(df_vitimas['circunstancias_vitima'].str.contains('Chacina', na=False))"
   ]
  },
  {
   "cell_type": "markdown",
   "id": "538bf208-f527-4c2c-a414-eb38e598297a",
   "metadata": {},
   "source": [
    "## 1.3 - Quantas pessoas foram vítimas de balas perdidas em 2024? E quantas vítimas teve o estado com mais casos?\n",
    "\n",
    "Em 2024, foram registradas 185 vítimas de bala perdida. No entanto, ao incluir os casos classificados como \"bala perdida\" e \"chacina\", o total sobe para 199. Como o contexto dessas ocorrências não está claro, não é possível determinar se há um erro nestes registros.  \n",
    "\n",
    "Entre os estados, o Rio de Janeiro foi o mais afetado, com 97 (considerando registros de \"Bala perdida/\") vítimas. "
   ]
  },
  {
   "cell_type": "code",
   "execution_count": 32,
   "id": "190e3f38-b8dc-43ee-98c7-df8ca89bd6f9",
   "metadata": {},
   "outputs": [
    {
     "data": {
      "text/plain": [
       "199"
      ]
     },
     "execution_count": 32,
     "metadata": {},
     "output_type": "execute_result"
    }
   ],
   "source": [
    "sum(df_vitimas['circunstancias_vitima'].str.contains('Bala perdida', na=False))"
   ]
  },
  {
   "cell_type": "code",
   "execution_count": 33,
   "id": "3dad5687-f9d1-46c7-b8cc-e6cb48779cbd",
   "metadata": {},
   "outputs": [
    {
     "data": {
      "text/plain": [
       "(185, 39)"
      ]
     },
     "execution_count": 33,
     "metadata": {},
     "output_type": "execute_result"
    }
   ],
   "source": [
    "df_vitimas.query('circunstancias_vitima == \"Bala perdida\"').shape"
   ]
  },
  {
   "cell_type": "code",
   "execution_count": 34,
   "id": "8b406aaa-0449-466c-a5c5-3e8970864148",
   "metadata": {},
   "outputs": [
    {
     "data": {
      "text/html": [
       "<div>\n",
       "<style scoped>\n",
       "    .dataframe tbody tr th:only-of-type {\n",
       "        vertical-align: middle;\n",
       "    }\n",
       "\n",
       "    .dataframe tbody tr th {\n",
       "        vertical-align: top;\n",
       "    }\n",
       "\n",
       "    .dataframe thead th {\n",
       "        text-align: right;\n",
       "    }\n",
       "</style>\n",
       "<table border=\"1\" class=\"dataframe\">\n",
       "  <thead>\n",
       "    <tr style=\"text-align: right;\">\n",
       "      <th></th>\n",
       "      <th>count</th>\n",
       "    </tr>\n",
       "    <tr>\n",
       "      <th>circunstancias_vitima</th>\n",
       "      <th></th>\n",
       "    </tr>\n",
       "  </thead>\n",
       "  <tbody>\n",
       "    <tr>\n",
       "      <th>Sem identificação</th>\n",
       "      <td>4533</td>\n",
       "    </tr>\n",
       "    <tr>\n",
       "      <th>Chacina</th>\n",
       "      <td>294</td>\n",
       "    </tr>\n",
       "    <tr>\n",
       "      <th>Bala perdida</th>\n",
       "      <td>185</td>\n",
       "    </tr>\n",
       "    <tr>\n",
       "      <th>Encontro de cadáver</th>\n",
       "      <td>176</td>\n",
       "    </tr>\n",
       "    <tr>\n",
       "      <th>Feminicídio/tentativa</th>\n",
       "      <td>26</td>\n",
       "    </tr>\n",
       "    <tr>\n",
       "      <th>Bala perdida,Chacina</th>\n",
       "      <td>14</td>\n",
       "    </tr>\n",
       "    <tr>\n",
       "      <th>Suicídio</th>\n",
       "      <td>12</td>\n",
       "    </tr>\n",
       "    <tr>\n",
       "      <th>Chacina,Encontro de cadáver</th>\n",
       "      <td>9</td>\n",
       "    </tr>\n",
       "    <tr>\n",
       "      <th>Chacina,Sem identificação</th>\n",
       "      <td>1</td>\n",
       "    </tr>\n",
       "  </tbody>\n",
       "</table>\n",
       "</div>"
      ],
      "text/plain": [
       "                             count\n",
       "circunstancias_vitima             \n",
       "Sem identificação             4533\n",
       "Chacina                        294\n",
       "Bala perdida                   185\n",
       "Encontro de cadáver            176\n",
       "Feminicídio/tentativa           26\n",
       "Bala perdida,Chacina            14\n",
       "Suicídio                        12\n",
       "Chacina,Encontro de cadáver      9\n",
       "Chacina,Sem identificação        1"
      ]
     },
     "execution_count": 34,
     "metadata": {},
     "output_type": "execute_result"
    }
   ],
   "source": [
    "df_vitimas['circunstancias_vitima'].value_counts().to_frame()"
   ]
  },
  {
   "cell_type": "code",
   "execution_count": 35,
   "id": "367a0ab6-63f6-48dd-a07e-6e2e0dc69640",
   "metadata": {},
   "outputs": [],
   "source": [
    "vitimas_bala_perdida = df_vitimas.query('circunstancias_vitima == \"Bala perdida\" or circunstancias_vitima == \"Bala perdida,Chacina\"')['uf'].value_counts().to_frame()"
   ]
  },
  {
   "cell_type": "code",
   "execution_count": 36,
   "id": "682a82a6-d574-4c0f-a079-dce5161f7113",
   "metadata": {},
   "outputs": [
    {
     "data": {
      "text/plain": [
       "uf\n",
       "Rio de Janeiro    111\n",
       "Pernambuco         49\n",
       "Bahia              39\n",
       "Name: count, dtype: int64"
      ]
     },
     "execution_count": 36,
     "metadata": {},
     "output_type": "execute_result"
    }
   ],
   "source": [
    "vitimas_bala_perdida['count']"
   ]
  },
  {
   "cell_type": "code",
   "execution_count": 37,
   "id": "5ccee679-c7f5-4683-9cb7-405c8f5b31ec",
   "metadata": {},
   "outputs": [
    {
     "data": {
      "image/png": "[encoded data removed]",
      "text/plain": [
       "<Figure size 1200x800 with 1 Axes>"
      ]
     },
     "metadata": {},
     "output_type": "display_data"
    }
   ],
   "source": [
    "plt.figure(figsize=(12,8))\n",
    "fig = sns.barplot(vitimas_bala_perdida, x='uf', y='count', width=0.4, hue='uf')\n",
    "\n",
    "for container in fig.containers:\n",
    "    fig.bar_label(container, fontsize=13)\n",
    "    \n",
    "plt.xlabel('')\n",
    "plt.ylabel('Vítimas')\n",
    "plt.title('Vítimas de bala perdida por estado'.upper(), fontdict={'fontweight':'bold'})\n",
    "plt.savefig('barras_bala_perdida.png', bbox_inches =\"tight\")\n",
    "plt.show()"
   ]
  },
  {
   "cell_type": "code",
   "execution_count": 38,
   "id": "7420187f-9b87-415c-8e70-09755a15b2f2",
   "metadata": {},
   "outputs": [
    {
     "data": {
      "text/html": [
       "<div>\n",
       "<style scoped>\n",
       "    .dataframe tbody tr th:only-of-type {\n",
       "        vertical-align: middle;\n",
       "    }\n",
       "\n",
       "    .dataframe tbody tr th {\n",
       "        vertical-align: top;\n",
       "    }\n",
       "\n",
       "    .dataframe thead th {\n",
       "        text-align: right;\n",
       "    }\n",
       "</style>\n",
       "<table border=\"1\" class=\"dataframe\">\n",
       "  <thead>\n",
       "    <tr style=\"text-align: right;\">\n",
       "      <th></th>\n",
       "      <th>count</th>\n",
       "    </tr>\n",
       "    <tr>\n",
       "      <th>uf</th>\n",
       "      <th></th>\n",
       "    </tr>\n",
       "  </thead>\n",
       "  <tbody>\n",
       "    <tr>\n",
       "      <th>Rio de Janeiro</th>\n",
       "      <td>97</td>\n",
       "    </tr>\n",
       "    <tr>\n",
       "      <th>Pernambuco</th>\n",
       "      <td>49</td>\n",
       "    </tr>\n",
       "    <tr>\n",
       "      <th>Bahia</th>\n",
       "      <td>39</td>\n",
       "    </tr>\n",
       "  </tbody>\n",
       "</table>\n",
       "</div>"
      ],
      "text/plain": [
       "                count\n",
       "uf                   \n",
       "Rio de Janeiro     97\n",
       "Pernambuco         49\n",
       "Bahia              39"
      ]
     },
     "execution_count": 38,
     "metadata": {},
     "output_type": "execute_result"
    }
   ],
   "source": [
    "df_vitimas.query('circunstancias_vitima == \"Bala perdida\"')['uf'].value_counts().to_frame()"
   ]
  },
  {
   "cell_type": "code",
   "execution_count": 39,
   "id": "b9e49d77-e0be-437a-bb81-0ce808ceaef5",
   "metadata": {},
   "outputs": [],
   "source": [
    "################### GRÁFICO #####################"
   ]
  },
  {
   "cell_type": "markdown",
   "id": "288e21b5-1c9b-4a7f-bc52-dbd1334f14d5",
   "metadata": {},
   "source": [
    "## 1.4 - Qual bairro registrou mais tiroteios?\n",
    "\n",
    "O mais com mais registros de tiroteios foi Vila Isabel no município do Rio de Janeiro - RJ."
   ]
  },
  {
   "cell_type": "code",
   "execution_count": 40,
   "id": "0fee6349-6cc3-4f4a-bf09-fbb84e8f0f5a",
   "metadata": {},
   "outputs": [],
   "source": [
    "bairros = df_ocorrencias.groupby(\n",
    "    ['uf', 'cidade', 'bairro']\n",
    ")['id_ocorrencia'].count().sort_values(ascending=False).head(10).to_frame().rename(\n",
    "    columns={'id_ocorrencia':'Registros'}\n",
    ").reset_index()"
   ]
  },
  {
   "cell_type": "code",
   "execution_count": 41,
   "id": "f9b5c135-5c99-4533-a345-0e4380f93f10",
   "metadata": {},
   "outputs": [
    {
     "data": {
      "image/png": "[encoded data removed]",
      "text/plain": [
       "<Figure size 1600x800 with 1 Axes>"
      ]
     },
     "metadata": {},
     "output_type": "display_data"
    }
   ],
   "source": [
    "plt.figure(figsize=(16,8))\n",
    "sns.barplot(bairros, x='Registros', y='bairro', hue='cidade')\n",
    "plt.title('Bairros com os maiores registros de tiroteio em 2024'.upper(), fontdict={'fontweight':'bold'})\n",
    "plt.savefig('barras_bairros.png', bbox_inches =\"tight\")\n",
    "plt.show()"
   ]
  },
  {
   "cell_type": "markdown",
   "id": "e4e25c81-381f-4e4f-b379-47b43994d558",
   "metadata": {},
   "source": [
    "## 1.5 - Quantas crianças foram baleadas dentro de casa em 2024? E quantas delas morreram?\n",
    "\n",
    "Há registros de sete crianças baleadas dentro de casa, das quais três morreram."
   ]
  },
  {
   "cell_type": "code",
   "execution_count": 42,
   "id": "470065ea-0da8-4c12-bc23-1b67d4eb939c",
   "metadata": {},
   "outputs": [
    {
     "data": {
      "text/html": [
       "<div>\n",
       "<style scoped>\n",
       "    .dataframe tbody tr th:only-of-type {\n",
       "        vertical-align: middle;\n",
       "    }\n",
       "\n",
       "    .dataframe tbody tr th {\n",
       "        vertical-align: top;\n",
       "    }\n",
       "\n",
       "    .dataframe thead th {\n",
       "        text-align: right;\n",
       "    }\n",
       "</style>\n",
       "<table border=\"1\" class=\"dataframe\">\n",
       "  <thead>\n",
       "    <tr style=\"text-align: right;\">\n",
       "      <th></th>\n",
       "      <th>count</th>\n",
       "    </tr>\n",
       "    <tr>\n",
       "      <th>faixa_etaria</th>\n",
       "      <th></th>\n",
       "    </tr>\n",
       "  </thead>\n",
       "  <tbody>\n",
       "    <tr>\n",
       "      <th>Adulto</th>\n",
       "      <td>4867</td>\n",
       "    </tr>\n",
       "    <tr>\n",
       "      <th>Adolescente</th>\n",
       "      <td>232</td>\n",
       "    </tr>\n",
       "    <tr>\n",
       "      <th>Idoso</th>\n",
       "      <td>80</td>\n",
       "    </tr>\n",
       "    <tr>\n",
       "      <th>Criança</th>\n",
       "      <td>42</td>\n",
       "    </tr>\n",
       "    <tr>\n",
       "      <th>Não identificado</th>\n",
       "      <td>27</td>\n",
       "    </tr>\n",
       "    <tr>\n",
       "      <th>Feto</th>\n",
       "      <td>2</td>\n",
       "    </tr>\n",
       "  </tbody>\n",
       "</table>\n",
       "</div>"
      ],
      "text/plain": [
       "                  count\n",
       "faixa_etaria           \n",
       "Adulto             4867\n",
       "Adolescente         232\n",
       "Idoso                80\n",
       "Criança              42\n",
       "Não identificado     27\n",
       "Feto                  2"
      ]
     },
     "execution_count": 42,
     "metadata": {},
     "output_type": "execute_result"
    }
   ],
   "source": [
    "df_vitimas['faixa_etaria'].value_counts().to_frame()"
   ]
  },
  {
   "cell_type": "code",
   "execution_count": 43,
   "id": "5fd6d357-64de-4895-af0d-2017862a3704",
   "metadata": {},
   "outputs": [
    {
     "data": {
      "text/plain": [
       "array(['Sem identificação', 'Bar', 'Outros', 'Residência', 'Automóvel',\n",
       "       'Posto de gasolina', 'Barbearia', 'Evento', 'Lava jato',\n",
       "       'Transporte público', 'Unidade de ensino'], dtype=object)"
      ]
     },
     "execution_count": 43,
     "metadata": {},
     "output_type": "execute_result"
    }
   ],
   "source": [
    "df_vitimas['local'].unique()"
   ]
  },
  {
   "cell_type": "code",
   "execution_count": 44,
   "id": "24abaf9c-8493-49d5-80db-2f221c2780fe",
   "metadata": {},
   "outputs": [
    {
     "data": {
      "text/plain": [
       "situacao\n",
       "Morta     3578\n",
       "Ferida    1672\n",
       "Name: count, dtype: int64"
      ]
     },
     "execution_count": 44,
     "metadata": {},
     "output_type": "execute_result"
    }
   ],
   "source": [
    "df_vitimas['situacao'].value_counts()"
   ]
  },
  {
   "cell_type": "code",
   "execution_count": 45,
   "id": "4e39537a-d3ab-4111-8b8b-dec7e276a524",
   "metadata": {},
   "outputs": [
    {
     "data": {
      "text/plain": [
       "(7, 39)"
      ]
     },
     "execution_count": 45,
     "metadata": {},
     "output_type": "execute_result"
    }
   ],
   "source": [
    "df_vitimas.query('faixa_etaria == \"Criança\" and local == \"Residência\"').shape"
   ]
  },
  {
   "cell_type": "code",
   "execution_count": 46,
   "id": "fc135a2d-d807-467c-a1de-cf7b23c99232",
   "metadata": {},
   "outputs": [
    {
     "data": {
      "text/plain": [
       "(3, 39)"
      ]
     },
     "execution_count": 46,
     "metadata": {},
     "output_type": "execute_result"
    }
   ],
   "source": [
    "df_vitimas.query('faixa_etaria == \"Criança\" and local == \"Residência\" and situacao == \"Morta\"').shape"
   ]
  },
  {
   "cell_type": "markdown",
   "id": "af3f4abd-8af5-453a-9a77-e310442fbbd9",
   "metadata": {},
   "source": [
    "## 1.6 - Quantos garis (funcionários de limpeza urbana) foram baleados em 2024?\n",
    "Não há registro de funcionários de limpeza urbana nos dados disponibilizados."
   ]
  },
  {
   "cell_type": "code",
   "execution_count": 51,
   "id": "cac0fa9f-947a-4b08-8352-4107c9787f48",
   "metadata": {},
   "outputs": [
    {
     "data": {
      "text/plain": [
       "array(['Não identificado', 'PPTE', 'Outros,PPTE', 'Outros',\n",
       "       'Mototaxista ', 'Motorista de aplicativo', 'Agente de segurança',\n",
       "       'Entregador / Motoboy', 'Gestante,Outros', 'Rifeiro',\n",
       "       'Agente de segurança,Político', 'Agente de segurança,Outros',\n",
       "       'Político', 'Motorista de aplicativo,Mototaxista ',\n",
       "       'Agente de segurança,Não identificado',\n",
       "       'Entregador / Motoboy,Mototaxista ', 'Vendedor ambulante',\n",
       "       'Motorista de aplicativo,Outros', 'Não identificado,Político',\n",
       "       'Mototaxista ,Outros', 'Não identificado,Outros',\n",
       "       'Agente de segurança,PPTE', 'Gestante',\n",
       "       'Liderança comunitária,Outros', 'Liderança comunitária,Político',\n",
       "       'Motorista de aplicativo,PPTE', 'PPTE,Rifeiro',\n",
       "       'Liderança religiosa,Outros', 'Liderança religiosa',\n",
       "       'Mototaxista ,Outros,PPTE',\n",
       "       'Motorista de aplicativo,Mototaxista ,PPTE',\n",
       "       'Outros,Vendedor ambulante', 'Entregador / Motoboy,PPTE',\n",
       "       'Liderança comunitária'], dtype=object)"
      ]
     },
     "execution_count": 51,
     "metadata": {},
     "output_type": "execute_result"
    }
   ],
   "source": [
    "df_vitimas['qualificacoes_vitima'].unique()"
   ]
  },
  {
   "cell_type": "code",
   "execution_count": 52,
   "id": "56443e36-4a8a-4792-b858-82e81bbb08ee",
   "metadata": {},
   "outputs": [
    {
     "data": {
      "text/plain": [
       "Index(['id_ocorrencia', 'uf', 'cidade', 'endereco', 'bairro', 'sub_bairro',\n",
       "       'localidade', 'latitude', 'longitude', 'data_ocorrencia',\n",
       "       'data de cadastro', 'última atualização', 'fonte_ocorrencia',\n",
       "       'presenca_agentes', 'acao_policial', 'civis_mortos_ocorrencia',\n",
       "       'civis_feridos_ocorrencia', 'agentes_mortos_ocorrencia',\n",
       "       'agentes_feridos_ocorrencia', 'chacina_ocorrencia',\n",
       "       'unidades_policiais', 'motivo_principal', 'motivos_complementares',\n",
       "       'outros_recortes', 'transporte_interrompido', 'ocorrencia_relacionada'],\n",
       "      dtype='object')"
      ]
     },
     "execution_count": 52,
     "metadata": {},
     "output_type": "execute_result"
    }
   ],
   "source": [
    "df_ocorrencias.columns"
   ]
  },
  {
   "cell_type": "code",
   "execution_count": null,
   "id": "56190827-a905-48d4-8a35-d7af596f24da",
   "metadata": {},
   "outputs": [],
   "source": []
  }
 ],
 "metadata": {
  "kernelspec": {
   "display_name": "Python 3 (ipykernel)",
   "language": "python",
   "name": "python3"
  },
  "language_info": {
   "codemirror_mode": {
    "name": "ipython",
    "version": 3
   },
   "file_extension": ".py",
   "mimetype": "text/x-python",
   "name": "python",
   "nbconvert_exporter": "python",
   "pygments_lexer": "ipython3",
   "version": "3.12.7"
  }
 },
 "nbformat": 4,
 "nbformat_minor": 5
}
