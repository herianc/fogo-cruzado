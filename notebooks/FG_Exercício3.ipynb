{
 "cells": [
  {
   "cell_type": "code",
   "execution_count": 1,
   "id": "1abefa81-1b8c-40a0-97bf-a2b4d0d03bc6",
   "metadata": {},
   "outputs": [
    {
     "name": "stdout",
     "output_type": "stream",
     "text": [
      "Note: you may need to restart the kernel to use updated packages.\n"
     ]
    }
   ],
   "source": [
    "%pip install geopy folium -q"
   ]
  },
  {
   "cell_type": "markdown",
   "id": "b16d8e9d-1e76-4cf7-996c-cf861ce55ca0",
   "metadata": {},
   "source": [
    "# Exercício 3\n",
    "\n",
    "Uma das atribuições do trabalho do assessor de dados do FC é checar o georreferenciamento dos registros feitos pelos analistas. Isso implica em saber encontrar localidades específicas em mapas, incluindo outros buscadores cartográficos que não apenas o Google Maps.\n",
    "\n",
    "\n",
    "Neste exercício, vamos te dar três localidades. Sua missão é localizar esses lugares no mapa. A sua resposta deve conter um código de georreferenciamento de ponto (local do pin do Google Maps) do local aproximado do bairro ou da localidade sugeridos. Além de dizer qual base cartográfica e qual estratégia você usou para encontrar essa localidade.\n",
    "\n",
    "\n",
    "## Exemplo: \n",
    "- Favela da Polêmica, Brotas, Salvador — Bahia\n",
    "- Latitude/longitude (-12.986395559745247, -38.471250246032724)\n",
    "- Base cartográfica: Wikimapia.\n",
    "- Estratégia de busca: Buscador google.\n",
    "\n",
    "\n",
    "## Local 1\n",
    "\n",
    "- **Agrovila de Iracema, Castanhal - Pará**\n",
    "- Latitude/longitude: (-1.1566629145565512, -48.00288063642972)\n",
    "- Base cartográfica: Google Maps.\n",
    "- Estratégia de busca: Buscador google.\n",
    "\n",
    "## Local 2\n",
    "\n",
    "- **Loteamento São Cosme e Damião, Várzea, Recife - Pernambuco**\n",
    "- Latitude/longitude: (-8.037706, -34.989753)\n",
    "- Base cartográfica: OpenStreetMaps\n",
    "- Estratégia de busca: Busca no aplicativo Gnome Maps.\n",
    "\n",
    "## Local 3\n",
    "\n",
    "- **Morro do Preventório, Charitas, Niterói - Rio de Janeiro**\n",
    "- Latitude/longitude: (-22.9349403, -43.0995279)\n",
    "- Base cartográfica: OpenCage Geocoding API\n",
    "- Estratégia de busca: Script em Python utilizando a biblioteca *geopy* e a API de geocodificação Open Cage. "
   ]
  },
  {
   "cell_type": "code",
   "execution_count": 4,
   "id": "a208cb24-e861-4eed-b1df-f16fc55edbc2",
   "metadata": {},
   "outputs": [],
   "source": [
    "import folium\n",
    "from folium.plugins import HeatMap, MousePosition\n",
    "from folium import plugins\n",
    "from geopy.geocoders import Nominatim, OpenCage"
   ]
  },
  {
   "cell_type": "code",
   "execution_count": 5,
   "id": "ba6b5dbc-1d98-4df5-b22f-83f56bb111ba",
   "metadata": {},
   "outputs": [],
   "source": [
    "open_cage_key = 'e6e7c8a8e18248c195a3122a3ad4d5f1'\n",
    "\n",
    "tomtom_key = 'QyjHNPJLdjV1cZMzzuflEWgEZWSo4GQk'"
   ]
  },
  {
   "cell_type": "code",
   "execution_count": 13,
   "id": "e9c836e1-b647-43bc-b9f8-cb1e1752cbc3",
   "metadata": {},
   "outputs": [],
   "source": [
    "#locator = Nominatim(user_agent='myGeocoder')\n",
    "nominatim = Nominatim(user_agent='nominatim_user')\n",
    "open_cage = OpenCage(api_key=open_cage_key, user_agent='geopy/2.4.1')"
   ]
  },
  {
   "cell_type": "code",
   "execution_count": 14,
   "id": "4f55f042-1b8e-463a-a195-419ba0b833ba",
   "metadata": {},
   "outputs": [],
   "source": [
    "# Local 1\n",
    "oc_local1 = open_cage.geocode('Agrovila de Iracema, Castanhal - Pará')\n",
    "nm_local1 = nominatim.geocode('Agrovila de Iracema, Castanhal - Pará')"
   ]
  },
  {
   "cell_type": "code",
   "execution_count": 34,
   "id": "b5cc0582-22fc-4e11-83ee-0e3abcf18e6d",
   "metadata": {},
   "outputs": [
    {
     "data": {
      "text/plain": [
       "{'annotations': {'DMS': {'lat': \"1° 17' 38.00400'' S\",\n",
       "   'lng': \"47° 55' 35.00400'' W\"},\n",
       "  'MGRS': '23MJU7430656798',\n",
       "  'Maidenhead': 'GI68aq89ul',\n",
       "  'Mercator': {'x': -5335141.33, 'y': -143083.275},\n",
       "  'OSM': {'note_url': 'https://www.openstreetmap.org/note/new#map=17/-1.29389/-47.92639&layers=N',\n",
       "   'url': 'https://www.openstreetmap.org/?mlat=-1.29389&mlon=-47.92639#map=17/-1.29389/-47.92639'},\n",
       "  'UN_M49': {'regions': {'AMERICAS': '019',\n",
       "    'BR': '076',\n",
       "    'LATIN_AMERICA': '419',\n",
       "    'SOUTH_AMERICA': '005',\n",
       "    'WORLD': '001'},\n",
       "   'statistical_groupings': ['LEDC']},\n",
       "  'callingcode': 55,\n",
       "  'currency': {'decimal_mark': ',',\n",
       "   'html_entity': 'R$',\n",
       "   'iso_code': 'BRL',\n",
       "   'iso_numeric': '986',\n",
       "   'name': 'Brazilian Real',\n",
       "   'smallest_denomination': 5,\n",
       "   'subunit': 'Centavo',\n",
       "   'subunit_to_unit': 100,\n",
       "   'symbol': 'R$',\n",
       "   'symbol_first': 1,\n",
       "   'thousands_separator': '.'},\n",
       "  'flag': '🇧🇷',\n",
       "  'geohash': '6zvbtkmnd1mmw8pzwhcc',\n",
       "  'qibla': 68.52,\n",
       "  'roadinfo': {'drive_on': 'right', 'speed_in': 'km/h'},\n",
       "  'sun': {'rise': {'apparent': 1739438520,\n",
       "    'astronomical': 1739434320,\n",
       "    'civil': 1739437260,\n",
       "    'nautical': 1739435760},\n",
       "   'set': {'apparent': 1739482140,\n",
       "    'astronomical': 1739486400,\n",
       "    'civil': 1739483460,\n",
       "    'nautical': 1739484900}},\n",
       "  'timezone': {'name': 'America/Belem',\n",
       "   'now_in_dst': 0,\n",
       "   'offset_sec': -10800,\n",
       "   'offset_string': '-0300',\n",
       "   'short_name': '-03'},\n",
       "  'what3words': {'words': 'label.caring.replied'}},\n",
       " 'bounds': {'northeast': {'lat': -1.2608602, 'lng': -47.8790702},\n",
       "  'southwest': {'lat': -1.327296, 'lng': -47.985935}},\n",
       " 'components': {'ISO_3166-1_alpha-2': 'BR',\n",
       "  'ISO_3166-1_alpha-3': 'BRA',\n",
       "  '_category': 'place',\n",
       "  '_normalized_city': 'Castanhal',\n",
       "  '_type': 'city',\n",
       "  'continent': 'South America',\n",
       "  'country': 'Brazil',\n",
       "  'country_code': 'br',\n",
       "  'county': 'Castanhal',\n",
       "  'state': 'Pará',\n",
       "  'state_code': 'PA',\n",
       "  'town': 'Castanhal'},\n",
       " 'confidence': 7,\n",
       " 'formatted': 'Castanhal, Brazil',\n",
       " 'geometry': {'lat': -1.29389, 'lng': -47.92639}}"
      ]
     },
     "execution_count": 34,
     "metadata": {},
     "output_type": "execute_result"
    }
   ],
   "source": [
    "oc_local1.raw"
   ]
  },
  {
   "cell_type": "code",
   "execution_count": 30,
   "id": "60fb26a4-a4a7-4dfa-8448-0c277ea2914e",
   "metadata": {},
   "outputs": [
    {
     "data": {
      "text/plain": [
       "<folium.map.Marker at 0x7f53cde05fa0>"
      ]
     },
     "execution_count": 30,
     "metadata": {},
     "output_type": "execute_result"
    }
   ],
   "source": [
    "m = folium.Map(\n",
    "    width='100%',\n",
    "    height='100%',\n",
    "    location = [oc_local1.latitude, oc_local1.longitude],\n",
    "    zoom_start=10,\n",
    ")\n",
    "\n",
    "folium.Marker(\n",
    "    location=[oc_local1.latitude, oc_local1.longitude],\n",
    "    popup='Agrovila de Iracema',\n",
    ").add_to(m)\n",
    "\n",
    "folium.Marker(\n",
    "    location=[]\n",
    ")"
   ]
  },
  {
   "cell_type": "code",
   "execution_count": 32,
   "id": "24f23c47-4ff4-4cd7-a262-afdbcccad7cc",
   "metadata": {},
   "outputs": [
    {
     "data": {
      "text/html": [
       "<div style=\"width:100%;\"><div style=\"position:relative;width:100%;height:0;padding-bottom:60%;\"><span style=\"color:#565656\">Make this Notebook Trusted to load map: File -> Trust Notebook</span><iframe srcdoc=\"&lt;!DOCTYPE html&gt;\n",
       "&lt;html&gt;\n",
       "&lt;head&gt;\n",
       "    \n",
       "    &lt;meta http-equiv=&quot;content-type&quot; content=&quot;text/html; charset=UTF-8&quot; /&gt;\n",
       "    \n",
       "        &lt;script&gt;\n",
       "            L_NO_TOUCH = false;\n",
       "            L_DISABLE_3D = false;\n",
       "        &lt;/script&gt;\n",
       "    \n",
       "    &lt;style&gt;html, body {width: 100%;height: 100%;margin: 0;padding: 0;}&lt;/style&gt;\n",
       "    &lt;style&gt;#map {position:absolute;top:0;bottom:0;right:0;left:0;}&lt;/style&gt;\n",
       "    &lt;script src=&quot;https://cdn.jsdelivr.net/npm/leaflet@1.9.3/dist/leaflet.js&quot;&gt;&lt;/script&gt;\n",
       "    &lt;script src=&quot;https://code.jquery.com/jquery-3.7.1.min.js&quot;&gt;&lt;/script&gt;\n",
       "    &lt;script src=&quot;https://cdn.jsdelivr.net/npm/bootstrap@5.2.2/dist/js/bootstrap.bundle.min.js&quot;&gt;&lt;/script&gt;\n",
       "    &lt;script src=&quot;https://cdnjs.cloudflare.com/ajax/libs/Leaflet.awesome-markers/2.0.2/leaflet.awesome-markers.js&quot;&gt;&lt;/script&gt;\n",
       "    &lt;link rel=&quot;stylesheet&quot; href=&quot;https://cdn.jsdelivr.net/npm/leaflet@1.9.3/dist/leaflet.css&quot;/&gt;\n",
       "    &lt;link rel=&quot;stylesheet&quot; href=&quot;https://cdn.jsdelivr.net/npm/bootstrap@5.2.2/dist/css/bootstrap.min.css&quot;/&gt;\n",
       "    &lt;link rel=&quot;stylesheet&quot; href=&quot;https://netdna.bootstrapcdn.com/bootstrap/3.0.0/css/bootstrap-glyphicons.css&quot;/&gt;\n",
       "    &lt;link rel=&quot;stylesheet&quot; href=&quot;https://cdn.jsdelivr.net/npm/@fortawesome/fontawesome-free@6.2.0/css/all.min.css&quot;/&gt;\n",
       "    &lt;link rel=&quot;stylesheet&quot; href=&quot;https://cdnjs.cloudflare.com/ajax/libs/Leaflet.awesome-markers/2.0.2/leaflet.awesome-markers.css&quot;/&gt;\n",
       "    &lt;link rel=&quot;stylesheet&quot; href=&quot;https://cdn.jsdelivr.net/gh/python-visualization/folium/folium/templates/leaflet.awesome.rotate.min.css&quot;/&gt;\n",
       "    \n",
       "            &lt;meta name=&quot;viewport&quot; content=&quot;width=device-width,\n",
       "                initial-scale=1.0, maximum-scale=1.0, user-scalable=no&quot; /&gt;\n",
       "            &lt;style&gt;\n",
       "                #map_7315bc591cb9a235067ce71ef0790d6e {\n",
       "                    position: relative;\n",
       "                    width: 100.0%;\n",
       "                    height: 100.0%;\n",
       "                    left: 0.0%;\n",
       "                    top: 0.0%;\n",
       "                }\n",
       "                .leaflet-container { font-size: 1rem; }\n",
       "            &lt;/style&gt;\n",
       "        \n",
       "&lt;/head&gt;\n",
       "&lt;body&gt;\n",
       "    \n",
       "    \n",
       "            &lt;div class=&quot;folium-map&quot; id=&quot;map_7315bc591cb9a235067ce71ef0790d6e&quot; &gt;&lt;/div&gt;\n",
       "        \n",
       "&lt;/body&gt;\n",
       "&lt;script&gt;\n",
       "    \n",
       "    \n",
       "            var map_7315bc591cb9a235067ce71ef0790d6e = L.map(\n",
       "                &quot;map_7315bc591cb9a235067ce71ef0790d6e&quot;,\n",
       "                {\n",
       "                    center: [-1.29389, -47.92639],\n",
       "                    crs: L.CRS.EPSG3857,\n",
       "                    ...{\n",
       "  &quot;zoom&quot;: 10,\n",
       "  &quot;zoomControl&quot;: true,\n",
       "  &quot;preferCanvas&quot;: false,\n",
       "}\n",
       "\n",
       "                }\n",
       "            );\n",
       "\n",
       "            \n",
       "\n",
       "        \n",
       "    \n",
       "            var tile_layer_73b261cfca77976567331463cc55721b = L.tileLayer(\n",
       "                &quot;https://tile.openstreetmap.org/{z}/{x}/{y}.png&quot;,\n",
       "                {\n",
       "  &quot;minZoom&quot;: 0,\n",
       "  &quot;maxZoom&quot;: 19,\n",
       "  &quot;maxNativeZoom&quot;: 19,\n",
       "  &quot;noWrap&quot;: false,\n",
       "  &quot;attribution&quot;: &quot;\\u0026copy; \\u003ca href=\\&quot;https://www.openstreetmap.org/copyright\\&quot;\\u003eOpenStreetMap\\u003c/a\\u003e contributors&quot;,\n",
       "  &quot;subdomains&quot;: &quot;abc&quot;,\n",
       "  &quot;detectRetina&quot;: false,\n",
       "  &quot;tms&quot;: false,\n",
       "  &quot;opacity&quot;: 1,\n",
       "}\n",
       "\n",
       "            );\n",
       "        \n",
       "    \n",
       "            tile_layer_73b261cfca77976567331463cc55721b.addTo(map_7315bc591cb9a235067ce71ef0790d6e);\n",
       "        \n",
       "    \n",
       "            var marker_e4a222b1064ae68a878097d13039c90d = L.marker(\n",
       "                [-1.29389, -47.92639],\n",
       "                {\n",
       "}\n",
       "            ).addTo(map_7315bc591cb9a235067ce71ef0790d6e);\n",
       "        \n",
       "    \n",
       "        var popup_d6e0ea449632e4733dcdf3447ae87cd6 = L.popup({\n",
       "  &quot;maxWidth&quot;: &quot;100%&quot;,\n",
       "});\n",
       "\n",
       "        \n",
       "            \n",
       "                var html_e9e08afcc3026930c57c4313fce55fe3 = $(`&lt;div id=&quot;html_e9e08afcc3026930c57c4313fce55fe3&quot; style=&quot;width: 100.0%; height: 100.0%;&quot;&gt;Agrovila de Iracema&lt;/div&gt;`)[0];\n",
       "                popup_d6e0ea449632e4733dcdf3447ae87cd6.setContent(html_e9e08afcc3026930c57c4313fce55fe3);\n",
       "            \n",
       "        \n",
       "\n",
       "        marker_e4a222b1064ae68a878097d13039c90d.bindPopup(popup_d6e0ea449632e4733dcdf3447ae87cd6)\n",
       "        ;\n",
       "\n",
       "        \n",
       "    \n",
       "&lt;/script&gt;\n",
       "&lt;/html&gt;\" style=\"position:absolute;width:100%;height:100%;left:0;top:0;border:none !important;\" allowfullscreen webkitallowfullscreen mozallowfullscreen></iframe></div></div>"
      ],
      "text/plain": [
       "<folium.folium.Map at 0x7f53cde09190>"
      ]
     },
     "execution_count": 32,
     "metadata": {},
     "output_type": "execute_result"
    }
   ],
   "source": [
    "m"
   ]
  },
  {
   "cell_type": "code",
   "execution_count": 37,
   "id": "31b53286-d1c5-418b-a4cf-58bf268870c5",
   "metadata": {},
   "outputs": [],
   "source": [
    "# Local 2\n",
    "oc_local2 = open_cage.geocode('Loteamento São Cosme e Damião, Várzea, Recife - Pernambuco')\n",
    "nm_local2 = nominatim.geocode('Loteamento São Cosme e Damião, Várzea, Recife - Pernambuco')"
   ]
  },
  {
   "cell_type": "code",
   "execution_count": 38,
   "id": "754afda7-d0cb-4932-a466-bef9a05000cd",
   "metadata": {},
   "outputs": [
    {
     "data": {
      "text/plain": [
       "Location(Rua Mangueirinha Loteamento Santos Cosme e Damião, 50020-430, Recife, (-8.0349033, -34.9830209, 0.0))"
      ]
     },
     "execution_count": 38,
     "metadata": {},
     "output_type": "execute_result"
    }
   ],
   "source": [
    "tom_local2"
   ]
  },
  {
   "cell_type": "code",
   "execution_count": 39,
   "id": "74eb4775-dc24-44dd-a3e0-9897c1db77ef",
   "metadata": {},
   "outputs": [
    {
     "data": {
      "text/plain": [
       "Location(Várzea, Recife, Brazil, (-8.06667, -34.95, 0.0))"
      ]
     },
     "execution_count": 39,
     "metadata": {},
     "output_type": "execute_result"
    }
   ],
   "source": [
    "oc_local2"
   ]
  },
  {
   "cell_type": "code",
   "execution_count": 40,
   "id": "ce200024-542a-4f28-aa9c-baeadead8dc9",
   "metadata": {},
   "outputs": [],
   "source": [
    "nm_local2"
   ]
  },
  {
   "cell_type": "code",
   "execution_count": 41,
   "id": "6b4361f1-3c3a-459b-9db4-f3451152f24f",
   "metadata": {},
   "outputs": [],
   "source": [
    "tom_local3 = tomtom.geocode('Morro do Preventório, Charitas, Niterói - Rio de Janeiro')\n",
    "oc_local3 = open_cage.geocode('Morro do Preventório, Charitas, Niterói - Rio de Janeiro')\n",
    "nm_local3 = nominatim.geocode('Morro do Preventório, Charitas, Niterói - Rio de Janeiro')"
   ]
  },
  {
   "cell_type": "code",
   "execution_count": 42,
   "id": "48846b67-0825-4b1e-ac2d-4ea4be1f53df",
   "metadata": {},
   "outputs": [
    {
     "data": {
      "text/plain": [
       "Location(Morro do Estado, Niterói, (-22.8969093, -43.1210358, 0.0))"
      ]
     },
     "execution_count": 42,
     "metadata": {},
     "output_type": "execute_result"
    }
   ],
   "source": [
    "tom_local3"
   ]
  },
  {
   "cell_type": "code",
   "execution_count": 43,
   "id": "5884a915-dcfb-4c4e-a87e-3a29cc45fa63",
   "metadata": {},
   "outputs": [
    {
     "data": {
      "text/plain": [
       "Location(Associação de Moradores do Morro do Preventório, Travessa XIV de Abril, Comunidade do Preventório, Niterói - RJ, 24360-030, Brazil, (-22.9349403, -43.0995279, 0.0))"
      ]
     },
     "execution_count": 43,
     "metadata": {},
     "output_type": "execute_result"
    }
   ],
   "source": [
    "oc_local3"
   ]
  }
 ],
 "metadata": {
  "kernelspec": {
   "display_name": "Python 3 (ipykernel)",
   "language": "python",
   "name": "python3"
  },
  "language_info": {
   "codemirror_mode": {
    "name": "ipython",
    "version": 3
   },
   "file_extension": ".py",
   "mimetype": "text/x-python",
   "name": "python",
   "nbconvert_exporter": "python",
   "pygments_lexer": "ipython3",
   "version": "3.12.7"
  }
 },
 "nbformat": 4,
 "nbformat_minor": 5
}
